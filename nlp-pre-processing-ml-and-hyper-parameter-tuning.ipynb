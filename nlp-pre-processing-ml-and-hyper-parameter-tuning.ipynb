{
 "cells": [
  {
   "cell_type": "code",
   "execution_count": 1,
   "id": "1c9d7448",
   "metadata": {
    "_cell_guid": "b1076dfc-b9ad-4769-8c92-a6c4dae69d19",
    "_uuid": "8f2839f25d086af736a60e9eeb907d3b93b6e0e5",
    "execution": {
     "iopub.execute_input": "2023-01-24T20:47:43.031767Z",
     "iopub.status.busy": "2023-01-24T20:47:43.031160Z",
     "iopub.status.idle": "2023-01-24T20:47:43.046579Z",
     "shell.execute_reply": "2023-01-24T20:47:43.045765Z"
    },
    "papermill": {
     "duration": 0.037475,
     "end_time": "2023-01-24T20:47:43.048926",
     "exception": false,
     "start_time": "2023-01-24T20:47:43.011451",
     "status": "completed"
    },
    "tags": []
   },
   "outputs": [
    {
     "name": "stdout",
     "output_type": "stream",
     "text": [
      "/kaggle/input/nlp-getting-started/sample_submission.csv\n",
      "/kaggle/input/nlp-getting-started/train.csv\n",
      "/kaggle/input/nlp-getting-started/test.csv\n"
     ]
    }
   ],
   "source": [
    "# This Python 3 environment comes with many helpful analytics libraries installed\n",
    "# It is defined by the kaggle/python Docker image: https://github.com/kaggle/docker-python\n",
    "# For example, here's several helpful packages to load\n",
    "\n",
    "import numpy as np # linear algebra\n",
    "import pandas as pd # data processing, CSV file I/O (e.g. pd.read_csv)\n",
    "\n",
    "# Input data files are available in the read-only \"../input/\" directory\n",
    "# For example, running this (by clicking run or pressing Shift+Enter) will list all files under the input directory\n",
    "\n",
    "import os\n",
    "for dirname, _, filenames in os.walk('/kaggle/input'):\n",
    "    for filename in filenames:\n",
    "        print(os.path.join(dirname, filename))\n",
    "\n",
    "# You can write up to 20GB to the current directory (/kaggle/working/) that gets preserved as output when you create a version using \"Save & Run All\" \n",
    "# You can also write temporary files to /kaggle/temp/, but they won't be saved outside of the current session"
   ]
  },
  {
   "cell_type": "markdown",
   "id": "46cabd91",
   "metadata": {
    "papermill": {
     "duration": 0.015747,
     "end_time": "2023-01-24T20:47:43.081077",
     "exception": false,
     "start_time": "2023-01-24T20:47:43.065330",
     "status": "completed"
    },
    "tags": []
   },
   "source": [
    "# MACHINE LEARNING LIBERARIES"
   ]
  },
  {
   "cell_type": "code",
   "execution_count": 2,
   "id": "72832a7e",
   "metadata": {
    "execution": {
     "iopub.execute_input": "2023-01-24T20:47:43.115498Z",
     "iopub.status.busy": "2023-01-24T20:47:43.114770Z",
     "iopub.status.idle": "2023-01-24T20:47:44.609523Z",
     "shell.execute_reply": "2023-01-24T20:47:44.607593Z"
    },
    "papermill": {
     "duration": 1.516225,
     "end_time": "2023-01-24T20:47:44.613374",
     "exception": false,
     "start_time": "2023-01-24T20:47:43.097149",
     "status": "completed"
    },
    "tags": []
   },
   "outputs": [],
   "source": [
    "from sklearn.naive_bayes import ComplementNB\n",
    "from sklearn.neighbors import KNeighborsClassifier\n",
    "from sklearn.tree import DecisionTreeClassifier\n",
    "from sklearn.ensemble import RandomForestClassifier\n",
    "from sklearn.naive_bayes import GaussianNB\n",
    "from sklearn.naive_bayes import MultinomialNB\n",
    "from sklearn.neighbors import KNeighborsClassifier\n",
    "from sklearn.svm import SVC\n",
    "from sklearn import svm\n",
    "from sklearn.ensemble import ExtraTreesClassifier\n",
    "from sklearn.linear_model import LogisticRegression\n",
    "from xgboost import XGBClassifier\n",
    "from sklearn.ensemble import VotingClassifier\n",
    "from sklearn.metrics import confusion_matrix, accuracy_score \n",
    "from sklearn.metrics import f1_score, precision_score, recall_score, fbeta_score\n",
    "from statsmodels.stats.outliers_influence import variance_inflation_factor\n",
    "from sklearn.model_selection import cross_val_score\n",
    "from sklearn.model_selection import GridSearchCV\n",
    "from sklearn.model_selection import ShuffleSplit\n",
    "from sklearn.model_selection import KFold\n",
    "from sklearn import feature_selection\n",
    "from sklearn import model_selection\n",
    "from sklearn import metrics\n",
    "from sklearn.metrics import classification_report, precision_recall_curve\n",
    "from sklearn.metrics import auc, roc_auc_score, roc_curve\n",
    "from sklearn.metrics import make_scorer, recall_score, log_loss\n",
    "from sklearn.metrics import average_precision_score\n",
    "from sklearn.metrics import accuracy_score, precision_score, recall_score\n",
    "from sklearn.metrics import classification_report, confusion_matrix\n",
    "from sklearn.metrics import plot_roc_curve\n",
    "from sklearn.model_selection import train_test_split"
   ]
  },
  {
   "cell_type": "code",
   "execution_count": 3,
   "id": "b1971323",
   "metadata": {
    "execution": {
     "iopub.execute_input": "2023-01-24T20:47:44.657062Z",
     "iopub.status.busy": "2023-01-24T20:47:44.656508Z",
     "iopub.status.idle": "2023-01-24T20:47:55.373045Z",
     "shell.execute_reply": "2023-01-24T20:47:55.371751Z"
    },
    "papermill": {
     "duration": 10.745064,
     "end_time": "2023-01-24T20:47:55.375961",
     "exception": false,
     "start_time": "2023-01-24T20:47:44.630897",
     "status": "completed"
    },
    "tags": []
   },
   "outputs": [],
   "source": [
    "import re\n",
    "import spacy\n",
    "nlp = spacy.load(\"en_core_web_sm\")\n",
    "from spacy.tokenizer import Tokenizer\n",
    "from spacy.lang.en import English\n",
    "import matplotlib.pyplot as plt"
   ]
  },
  {
   "cell_type": "markdown",
   "id": "2e592854",
   "metadata": {
    "papermill": {
     "duration": 0.015837,
     "end_time": "2023-01-24T20:47:55.408023",
     "exception": false,
     "start_time": "2023-01-24T20:47:55.392186",
     "status": "completed"
    },
    "tags": []
   },
   "source": [
    "### Loading the dataset"
   ]
  },
  {
   "cell_type": "code",
   "execution_count": 4,
   "id": "96ce43fe",
   "metadata": {
    "execution": {
     "iopub.execute_input": "2023-01-24T20:47:55.443071Z",
     "iopub.status.busy": "2023-01-24T20:47:55.442052Z",
     "iopub.status.idle": "2023-01-24T20:47:55.510370Z",
     "shell.execute_reply": "2023-01-24T20:47:55.509475Z"
    },
    "papermill": {
     "duration": 0.088847,
     "end_time": "2023-01-24T20:47:55.513071",
     "exception": false,
     "start_time": "2023-01-24T20:47:55.424224",
     "status": "completed"
    },
    "tags": []
   },
   "outputs": [],
   "source": [
    "data_tr=pd.read_csv('/kaggle/input/nlp-getting-started/train.csv')\n",
    "data_test=pd.read_csv('/kaggle/input/nlp-getting-started/test.csv')"
   ]
  },
  {
   "cell_type": "code",
   "execution_count": 5,
   "id": "c090fa70",
   "metadata": {
    "execution": {
     "iopub.execute_input": "2023-01-24T20:47:55.547856Z",
     "iopub.status.busy": "2023-01-24T20:47:55.547194Z",
     "iopub.status.idle": "2023-01-24T20:47:55.565624Z",
     "shell.execute_reply": "2023-01-24T20:47:55.564488Z"
    },
    "papermill": {
     "duration": 0.038436,
     "end_time": "2023-01-24T20:47:55.568025",
     "exception": false,
     "start_time": "2023-01-24T20:47:55.529589",
     "status": "completed"
    },
    "tags": []
   },
   "outputs": [
    {
     "data": {
      "text/html": [
       "<div>\n",
       "<style scoped>\n",
       "    .dataframe tbody tr th:only-of-type {\n",
       "        vertical-align: middle;\n",
       "    }\n",
       "\n",
       "    .dataframe tbody tr th {\n",
       "        vertical-align: top;\n",
       "    }\n",
       "\n",
       "    .dataframe thead th {\n",
       "        text-align: right;\n",
       "    }\n",
       "</style>\n",
       "<table border=\"1\" class=\"dataframe\">\n",
       "  <thead>\n",
       "    <tr style=\"text-align: right;\">\n",
       "      <th></th>\n",
       "      <th>id</th>\n",
       "      <th>keyword</th>\n",
       "      <th>location</th>\n",
       "      <th>text</th>\n",
       "      <th>target</th>\n",
       "    </tr>\n",
       "  </thead>\n",
       "  <tbody>\n",
       "    <tr>\n",
       "      <th>0</th>\n",
       "      <td>1</td>\n",
       "      <td>NaN</td>\n",
       "      <td>NaN</td>\n",
       "      <td>Our Deeds are the Reason of this #earthquake M...</td>\n",
       "      <td>1</td>\n",
       "    </tr>\n",
       "    <tr>\n",
       "      <th>1</th>\n",
       "      <td>4</td>\n",
       "      <td>NaN</td>\n",
       "      <td>NaN</td>\n",
       "      <td>Forest fire near La Ronge Sask. Canada</td>\n",
       "      <td>1</td>\n",
       "    </tr>\n",
       "    <tr>\n",
       "      <th>2</th>\n",
       "      <td>5</td>\n",
       "      <td>NaN</td>\n",
       "      <td>NaN</td>\n",
       "      <td>All residents asked to 'shelter in place' are ...</td>\n",
       "      <td>1</td>\n",
       "    </tr>\n",
       "    <tr>\n",
       "      <th>3</th>\n",
       "      <td>6</td>\n",
       "      <td>NaN</td>\n",
       "      <td>NaN</td>\n",
       "      <td>13,000 people receive #wildfires evacuation or...</td>\n",
       "      <td>1</td>\n",
       "    </tr>\n",
       "    <tr>\n",
       "      <th>4</th>\n",
       "      <td>7</td>\n",
       "      <td>NaN</td>\n",
       "      <td>NaN</td>\n",
       "      <td>Just got sent this photo from Ruby #Alaska as ...</td>\n",
       "      <td>1</td>\n",
       "    </tr>\n",
       "  </tbody>\n",
       "</table>\n",
       "</div>"
      ],
      "text/plain": [
       "   id keyword location                                               text  \\\n",
       "0   1     NaN      NaN  Our Deeds are the Reason of this #earthquake M...   \n",
       "1   4     NaN      NaN             Forest fire near La Ronge Sask. Canada   \n",
       "2   5     NaN      NaN  All residents asked to 'shelter in place' are ...   \n",
       "3   6     NaN      NaN  13,000 people receive #wildfires evacuation or...   \n",
       "4   7     NaN      NaN  Just got sent this photo from Ruby #Alaska as ...   \n",
       "\n",
       "   target  \n",
       "0       1  \n",
       "1       1  \n",
       "2       1  \n",
       "3       1  \n",
       "4       1  "
      ]
     },
     "execution_count": 5,
     "metadata": {},
     "output_type": "execute_result"
    }
   ],
   "source": [
    "data_tr.head()"
   ]
  },
  {
   "cell_type": "code",
   "execution_count": 6,
   "id": "94d9af11",
   "metadata": {
    "execution": {
     "iopub.execute_input": "2023-01-24T20:47:55.602362Z",
     "iopub.status.busy": "2023-01-24T20:47:55.601991Z",
     "iopub.status.idle": "2023-01-24T20:47:55.609892Z",
     "shell.execute_reply": "2023-01-24T20:47:55.607855Z"
    },
    "papermill": {
     "duration": 0.028989,
     "end_time": "2023-01-24T20:47:55.613366",
     "exception": false,
     "start_time": "2023-01-24T20:47:55.584377",
     "status": "completed"
    },
    "tags": []
   },
   "outputs": [
    {
     "data": {
      "text/plain": [
       "(7613, 5)"
      ]
     },
     "execution_count": 6,
     "metadata": {},
     "output_type": "execute_result"
    }
   ],
   "source": [
    "data_tr.shape"
   ]
  },
  {
   "cell_type": "code",
   "execution_count": 7,
   "id": "79f1cca5",
   "metadata": {
    "execution": {
     "iopub.execute_input": "2023-01-24T20:47:55.660387Z",
     "iopub.status.busy": "2023-01-24T20:47:55.659658Z",
     "iopub.status.idle": "2023-01-24T20:47:55.694609Z",
     "shell.execute_reply": "2023-01-24T20:47:55.692698Z"
    },
    "papermill": {
     "duration": 0.062534,
     "end_time": "2023-01-24T20:47:55.697222",
     "exception": false,
     "start_time": "2023-01-24T20:47:55.634688",
     "status": "completed"
    },
    "tags": []
   },
   "outputs": [
    {
     "name": "stdout",
     "output_type": "stream",
     "text": [
      "<class 'pandas.core.frame.DataFrame'>\n",
      "RangeIndex: 7613 entries, 0 to 7612\n",
      "Data columns (total 5 columns):\n",
      " #   Column    Non-Null Count  Dtype \n",
      "---  ------    --------------  ----- \n",
      " 0   id        7613 non-null   int64 \n",
      " 1   keyword   7552 non-null   object\n",
      " 2   location  5080 non-null   object\n",
      " 3   text      7613 non-null   object\n",
      " 4   target    7613 non-null   int64 \n",
      "dtypes: int64(2), object(3)\n",
      "memory usage: 297.5+ KB\n"
     ]
    }
   ],
   "source": [
    "data_tr.info()"
   ]
  },
  {
   "cell_type": "markdown",
   "id": "8e3e8e53",
   "metadata": {
    "papermill": {
     "duration": 0.015987,
     "end_time": "2023-01-24T20:47:55.731196",
     "exception": false,
     "start_time": "2023-01-24T20:47:55.715209",
     "status": "completed"
    },
    "tags": []
   },
   "source": [
    "# DATA PREPROCESSING"
   ]
  },
  {
   "cell_type": "code",
   "execution_count": 8,
   "id": "79de63d8",
   "metadata": {
    "execution": {
     "iopub.execute_input": "2023-01-24T20:47:55.765717Z",
     "iopub.status.busy": "2023-01-24T20:47:55.764890Z",
     "iopub.status.idle": "2023-01-24T20:47:55.770883Z",
     "shell.execute_reply": "2023-01-24T20:47:55.769824Z"
    },
    "papermill": {
     "duration": 0.025792,
     "end_time": "2023-01-24T20:47:55.773241",
     "exception": false,
     "start_time": "2023-01-24T20:47:55.747449",
     "status": "completed"
    },
    "tags": []
   },
   "outputs": [],
   "source": [
    "del data_tr['keyword']\n",
    "del data_tr['location']"
   ]
  },
  {
   "cell_type": "markdown",
   "id": "4afa1c60",
   "metadata": {
    "papermill": {
     "duration": 0.015975,
     "end_time": "2023-01-24T20:47:55.805842",
     "exception": false,
     "start_time": "2023-01-24T20:47:55.789867",
     "status": "completed"
    },
    "tags": []
   },
   "source": [
    "### Textual Date Cleaning using REGEX"
   ]
  },
  {
   "cell_type": "code",
   "execution_count": 9,
   "id": "24567347",
   "metadata": {
    "execution": {
     "iopub.execute_input": "2023-01-24T20:47:55.841091Z",
     "iopub.status.busy": "2023-01-24T20:47:55.840408Z",
     "iopub.status.idle": "2023-01-24T20:47:55.846685Z",
     "shell.execute_reply": "2023-01-24T20:47:55.845822Z"
    },
    "papermill": {
     "duration": 0.026577,
     "end_time": "2023-01-24T20:47:55.848910",
     "exception": false,
     "start_time": "2023-01-24T20:47:55.822333",
     "status": "completed"
    },
    "tags": []
   },
   "outputs": [],
   "source": [
    "def text_cleaner(text):\n",
    "    text = text.lower() # convert to lowercase\n",
    "    text = re.sub(r'[^a-zA-Z0-9\\s]', '', text) # remove punctuation and special characters\n",
    "    text = re.sub(r'\\s+', ' ', text) # remove extra whitespace\n",
    "    text = re.sub(r'https?://\\S+', '', text) # remove URLs\n",
    "    text = re.sub(r\"#\", \"\", text)\n",
    "    return text"
   ]
  },
  {
   "cell_type": "code",
   "execution_count": 10,
   "id": "ee650b64",
   "metadata": {
    "execution": {
     "iopub.execute_input": "2023-01-24T20:47:55.884505Z",
     "iopub.status.busy": "2023-01-24T20:47:55.883840Z",
     "iopub.status.idle": "2023-01-24T20:47:55.990174Z",
     "shell.execute_reply": "2023-01-24T20:47:55.988959Z"
    },
    "papermill": {
     "duration": 0.12701,
     "end_time": "2023-01-24T20:47:55.992802",
     "exception": false,
     "start_time": "2023-01-24T20:47:55.865792",
     "status": "completed"
    },
    "tags": []
   },
   "outputs": [],
   "source": [
    "data_tr['text'] = data_tr['text'].apply(text_cleaner)"
   ]
  },
  {
   "cell_type": "markdown",
   "id": "c0f4b06c",
   "metadata": {
    "papermill": {
     "duration": 0.01681,
     "end_time": "2023-01-24T20:47:56.026319",
     "exception": false,
     "start_time": "2023-01-24T20:47:56.009509",
     "status": "completed"
    },
    "tags": []
   },
   "source": [
    "### Tokenizing"
   ]
  },
  {
   "cell_type": "code",
   "execution_count": 11,
   "id": "e296e22a",
   "metadata": {
    "execution": {
     "iopub.execute_input": "2023-01-24T20:47:56.061790Z",
     "iopub.status.busy": "2023-01-24T20:47:56.061336Z",
     "iopub.status.idle": "2023-01-24T20:48:57.758229Z",
     "shell.execute_reply": "2023-01-24T20:48:57.757264Z"
    },
    "papermill": {
     "duration": 61.717649,
     "end_time": "2023-01-24T20:48:57.760829",
     "exception": false,
     "start_time": "2023-01-24T20:47:56.043180",
     "status": "completed"
    },
    "tags": []
   },
   "outputs": [],
   "source": [
    "data_tr['token_text'] = data_tr['text'].apply(lambda x: nlp(x))"
   ]
  },
  {
   "cell_type": "code",
   "execution_count": 12,
   "id": "0ffa62f4",
   "metadata": {
    "execution": {
     "iopub.execute_input": "2023-01-24T20:48:57.796591Z",
     "iopub.status.busy": "2023-01-24T20:48:57.795540Z",
     "iopub.status.idle": "2023-01-24T20:48:57.805783Z",
     "shell.execute_reply": "2023-01-24T20:48:57.804803Z"
    },
    "papermill": {
     "duration": 0.030155,
     "end_time": "2023-01-24T20:48:57.807905",
     "exception": false,
     "start_time": "2023-01-24T20:48:57.777750",
     "status": "completed"
    },
    "tags": []
   },
   "outputs": [
    {
     "data": {
      "text/plain": [
       "0       (our, deeds, are, the, reason, of, this, earth...\n",
       "1           (forest, fire, near, la, ronge, sask, canada)\n",
       "2       (all, residents, asked, to, shelter, in, place...\n",
       "3       (13000, people, receive, wildfires, evacuation...\n",
       "4       (just, got, sent, this, photo, from, ruby, ala...\n",
       "                              ...                        \n",
       "7608    (two, giant, cranes, holding, a, bridge, colla...\n",
       "7609    (ariaahrary, thetawniest, the, out, of, contro...\n",
       "7610    (m194, 0104, utc5, km, s, of, volcano, hawaii,...\n",
       "7611    (police, investigating, after, an, ebike, coll...\n",
       "7612    (the, latest, more, homes, razed, by, northern...\n",
       "Name: token_text, Length: 7613, dtype: object"
      ]
     },
     "execution_count": 12,
     "metadata": {},
     "output_type": "execute_result"
    }
   ],
   "source": [
    "data_tr['token_text']"
   ]
  },
  {
   "cell_type": "markdown",
   "id": "93e3b1b1",
   "metadata": {
    "papermill": {
     "duration": 0.01617,
     "end_time": "2023-01-24T20:48:57.840615",
     "exception": false,
     "start_time": "2023-01-24T20:48:57.824445",
     "status": "completed"
    },
    "tags": []
   },
   "source": [
    "### Lemmatizing"
   ]
  },
  {
   "cell_type": "code",
   "execution_count": 13,
   "id": "dbb89a02",
   "metadata": {
    "execution": {
     "iopub.execute_input": "2023-01-24T20:48:57.876353Z",
     "iopub.status.busy": "2023-01-24T20:48:57.875668Z",
     "iopub.status.idle": "2023-01-24T20:48:57.881798Z",
     "shell.execute_reply": "2023-01-24T20:48:57.880565Z"
    },
    "papermill": {
     "duration": 0.026474,
     "end_time": "2023-01-24T20:48:57.884132",
     "exception": false,
     "start_time": "2023-01-24T20:48:57.857658",
     "status": "completed"
    },
    "tags": []
   },
   "outputs": [],
   "source": [
    "# Function to preprocess text\n",
    "def preprocess(text):\n",
    "  # Create Doc object\n",
    "    doc = nlp(text, disable=['ner', 'parser'])\n",
    "    # Generate lemmas\n",
    "    lemmas = [token.lemma_ for token in doc]\n",
    "    # Remove stopwords and non-alphabetic characters\n",
    "    a_lemmas = [lemma for lemma in lemmas \n",
    "            if lemma.isalpha()]\n",
    "    return ' '.join(a_lemmas)"
   ]
  },
  {
   "cell_type": "code",
   "execution_count": 14,
   "id": "a7a6faab",
   "metadata": {
    "execution": {
     "iopub.execute_input": "2023-01-24T20:48:57.919707Z",
     "iopub.status.busy": "2023-01-24T20:48:57.918851Z",
     "iopub.status.idle": "2023-01-24T20:49:21.482958Z",
     "shell.execute_reply": "2023-01-24T20:49:21.481328Z"
    },
    "papermill": {
     "duration": 23.584676,
     "end_time": "2023-01-24T20:49:21.485424",
     "exception": false,
     "start_time": "2023-01-24T20:48:57.900748",
     "status": "completed"
    },
    "tags": []
   },
   "outputs": [
    {
     "name": "stdout",
     "output_type": "stream",
     "text": [
      "0       our deed be the reason of this earthquake may ...\n",
      "1                   forest fire near la ronge sask canada\n",
      "2       all resident ask to shelter in place be be not...\n",
      "3       people receive wildfire evacuation order in ca...\n",
      "4       just got send this photo from ruby alaska as s...\n",
      "                              ...                        \n",
      "7608    two giant crane hold a bridge collapse into ne...\n",
      "7609    ariaahrary thetawniest the out of control wild...\n",
      "7610                               km s of volcano hawaii\n",
      "7611    police investigate after an ebike collide with...\n",
      "7612    the late more home raze by northern california...\n",
      "Name: token_text, Length: 7613, dtype: object\n"
     ]
    }
   ],
   "source": [
    "data_tr['token_text'] = data_tr['token_text'].apply(preprocess)\n",
    "print(data_tr['token_text'])"
   ]
  },
  {
   "cell_type": "markdown",
   "id": "5b5725f6",
   "metadata": {
    "papermill": {
     "duration": 0.016358,
     "end_time": "2023-01-24T20:49:21.518573",
     "exception": false,
     "start_time": "2023-01-24T20:49:21.502215",
     "status": "completed"
    },
    "tags": []
   },
   "source": [
    "# ML MODEL BUILDING"
   ]
  },
  {
   "cell_type": "code",
   "execution_count": 15,
   "id": "66ed7975",
   "metadata": {
    "execution": {
     "iopub.execute_input": "2023-01-24T20:49:21.553627Z",
     "iopub.status.busy": "2023-01-24T20:49:21.553227Z",
     "iopub.status.idle": "2023-01-24T20:49:21.558105Z",
     "shell.execute_reply": "2023-01-24T20:49:21.556937Z"
    },
    "papermill": {
     "duration": 0.025016,
     "end_time": "2023-01-24T20:49:21.560199",
     "exception": false,
     "start_time": "2023-01-24T20:49:21.535183",
     "status": "completed"
    },
    "tags": []
   },
   "outputs": [],
   "source": [
    "x=data_tr['token_text']\n",
    "y=data_tr['target']\n"
   ]
  },
  {
   "cell_type": "code",
   "execution_count": 16,
   "id": "1bbbc4d0",
   "metadata": {
    "execution": {
     "iopub.execute_input": "2023-01-24T20:49:21.595325Z",
     "iopub.status.busy": "2023-01-24T20:49:21.594923Z",
     "iopub.status.idle": "2023-01-24T20:49:21.607056Z",
     "shell.execute_reply": "2023-01-24T20:49:21.605972Z"
    },
    "papermill": {
     "duration": 0.03277,
     "end_time": "2023-01-24T20:49:21.609623",
     "exception": false,
     "start_time": "2023-01-24T20:49:21.576853",
     "status": "completed"
    },
    "tags": []
   },
   "outputs": [],
   "source": [
    "x_train,x_test,y_train,y_test=train_test_split(x,y,test_size=0.2,random_state=4,stratify=y)"
   ]
  },
  {
   "cell_type": "markdown",
   "id": "e3f66883",
   "metadata": {
    "papermill": {
     "duration": 0.016906,
     "end_time": "2023-01-24T20:49:21.644217",
     "exception": false,
     "start_time": "2023-01-24T20:49:21.627311",
     "status": "completed"
    },
    "tags": []
   },
   "source": [
    "### Converting textual Data into Numeric Form using TF-IDF Vectorization"
   ]
  },
  {
   "cell_type": "code",
   "execution_count": 17,
   "id": "af006988",
   "metadata": {
    "execution": {
     "iopub.execute_input": "2023-01-24T20:49:21.680434Z",
     "iopub.status.busy": "2023-01-24T20:49:21.680029Z",
     "iopub.status.idle": "2023-01-24T20:49:21.840432Z",
     "shell.execute_reply": "2023-01-24T20:49:21.839442Z"
    },
    "papermill": {
     "duration": 0.181618,
     "end_time": "2023-01-24T20:49:21.843153",
     "exception": false,
     "start_time": "2023-01-24T20:49:21.661535",
     "status": "completed"
    },
    "tags": []
   },
   "outputs": [],
   "source": [
    "# Import TfidfVectorizer\n",
    "from sklearn.feature_extraction.text import TfidfVectorizer\n",
    "# Create TfidfVectorizer object\n",
    "vectorizer = TfidfVectorizer(stop_words = 'english')\n",
    "#vectorizer = TfidfVectorizer(lowercase=True)\n",
    "# Generate matrix of word vectors\n",
    "X_train = vectorizer.fit_transform(x_train)\n",
    "X_test = vectorizer.transform(x_test)\n",
    "#print(tfidf_matrix.toarray())\n"
   ]
  },
  {
   "cell_type": "code",
   "execution_count": 18,
   "id": "64acfac0",
   "metadata": {
    "execution": {
     "iopub.execute_input": "2023-01-24T20:49:21.878583Z",
     "iopub.status.busy": "2023-01-24T20:49:21.878196Z",
     "iopub.status.idle": "2023-01-24T20:49:21.885517Z",
     "shell.execute_reply": "2023-01-24T20:49:21.884375Z"
    },
    "papermill": {
     "duration": 0.027928,
     "end_time": "2023-01-24T20:49:21.887938",
     "exception": false,
     "start_time": "2023-01-24T20:49:21.860010",
     "status": "completed"
    },
    "tags": []
   },
   "outputs": [
    {
     "data": {
      "text/plain": [
       "(6090, 12676)"
      ]
     },
     "execution_count": 18,
     "metadata": {},
     "output_type": "execute_result"
    }
   ],
   "source": [
    "X_train.shape"
   ]
  },
  {
   "cell_type": "markdown",
   "id": "d3606165",
   "metadata": {
    "papermill": {
     "duration": 0.017032,
     "end_time": "2023-01-24T20:49:21.922140",
     "exception": false,
     "start_time": "2023-01-24T20:49:21.905108",
     "status": "completed"
    },
    "tags": []
   },
   "source": [
    "### Base Model Building"
   ]
  },
  {
   "cell_type": "code",
   "execution_count": 19,
   "id": "927c61fa",
   "metadata": {
    "execution": {
     "iopub.execute_input": "2023-01-24T20:49:21.958120Z",
     "iopub.status.busy": "2023-01-24T20:49:21.957229Z",
     "iopub.status.idle": "2023-01-24T20:49:21.964416Z",
     "shell.execute_reply": "2023-01-24T20:49:21.963668Z"
    },
    "papermill": {
     "duration": 0.027628,
     "end_time": "2023-01-24T20:49:21.966791",
     "exception": false,
     "start_time": "2023-01-24T20:49:21.939163",
     "status": "completed"
    },
    "tags": []
   },
   "outputs": [],
   "source": [
    "models = []\n",
    "models.append(('Logistic Regression', LogisticRegression()))\n",
    "models.append(('Kernel SVM', SVC()))\n",
    "models.append(('KNN', KNeighborsClassifier()))\n",
    "models.append(('Multinomial NB', MultinomialNB()))\n",
    "models.append(('Random Forest', RandomForestClassifier()))\n",
    "models.append(('Decision Tree Classifier', DecisionTreeClassifier()))\n",
    "models.append(('XG Boost',XGBClassifier()))"
   ]
  },
  {
   "cell_type": "markdown",
   "id": "ad6cbc10",
   "metadata": {
    "papermill": {
     "duration": 0.016776,
     "end_time": "2023-01-24T20:49:22.001233",
     "exception": false,
     "start_time": "2023-01-24T20:49:21.984457",
     "status": "completed"
    },
    "tags": []
   },
   "source": [
    "### Model Evaluation Code"
   ]
  },
  {
   "cell_type": "code",
   "execution_count": 20,
   "id": "6fb845bd",
   "metadata": {
    "execution": {
     "iopub.execute_input": "2023-01-24T20:49:22.036787Z",
     "iopub.status.busy": "2023-01-24T20:49:22.036337Z",
     "iopub.status.idle": "2023-01-24T20:56:14.761319Z",
     "shell.execute_reply": "2023-01-24T20:56:14.760223Z"
    },
    "papermill": {
     "duration": 412.762169,
     "end_time": "2023-01-24T20:56:14.780257",
     "exception": false,
     "start_time": "2023-01-24T20:49:22.018088",
     "status": "completed"
    },
    "tags": []
   },
   "outputs": [
    {
     "data": {
      "text/html": [
       "<div>\n",
       "<style scoped>\n",
       "    .dataframe tbody tr th:only-of-type {\n",
       "        vertical-align: middle;\n",
       "    }\n",
       "\n",
       "    .dataframe tbody tr th {\n",
       "        vertical-align: top;\n",
       "    }\n",
       "\n",
       "    .dataframe thead th {\n",
       "        text-align: right;\n",
       "    }\n",
       "</style>\n",
       "<table border=\"1\" class=\"dataframe\">\n",
       "  <thead>\n",
       "    <tr style=\"text-align: right;\">\n",
       "      <th></th>\n",
       "      <th>Algorithm</th>\n",
       "      <th>ROC AUC</th>\n",
       "      <th>Accuracy</th>\n",
       "      <th>Precision</th>\n",
       "      <th>f1 Score</th>\n",
       "    </tr>\n",
       "  </thead>\n",
       "  <tbody>\n",
       "    <tr>\n",
       "      <th>3</th>\n",
       "      <td>Multinomial NB</td>\n",
       "      <td>80.00</td>\n",
       "      <td>85.57</td>\n",
       "      <td>83.31</td>\n",
       "      <td>74.20</td>\n",
       "    </tr>\n",
       "    <tr>\n",
       "      <th>0</th>\n",
       "      <td>Logistic Regression</td>\n",
       "      <td>79.59</td>\n",
       "      <td>85.97</td>\n",
       "      <td>86.29</td>\n",
       "      <td>72.45</td>\n",
       "    </tr>\n",
       "    <tr>\n",
       "      <th>1</th>\n",
       "      <td>Kernel SVM</td>\n",
       "      <td>79.34</td>\n",
       "      <td>85.40</td>\n",
       "      <td>87.63</td>\n",
       "      <td>71.56</td>\n",
       "    </tr>\n",
       "    <tr>\n",
       "      <th>4</th>\n",
       "      <td>Random Forest</td>\n",
       "      <td>77.96</td>\n",
       "      <td>83.93</td>\n",
       "      <td>82.68</td>\n",
       "      <td>70.42</td>\n",
       "    </tr>\n",
       "    <tr>\n",
       "      <th>6</th>\n",
       "      <td>XG Boost</td>\n",
       "      <td>76.86</td>\n",
       "      <td>83.01</td>\n",
       "      <td>81.75</td>\n",
       "      <td>68.82</td>\n",
       "    </tr>\n",
       "    <tr>\n",
       "      <th>2</th>\n",
       "      <td>KNN</td>\n",
       "      <td>76.31</td>\n",
       "      <td>80.95</td>\n",
       "      <td>82.24</td>\n",
       "      <td>67.59</td>\n",
       "    </tr>\n",
       "    <tr>\n",
       "      <th>5</th>\n",
       "      <td>Decision Tree Classifier</td>\n",
       "      <td>73.14</td>\n",
       "      <td>73.03</td>\n",
       "      <td>70.04</td>\n",
       "      <td>68.25</td>\n",
       "    </tr>\n",
       "  </tbody>\n",
       "</table>\n",
       "</div>"
      ],
      "text/plain": [
       "                  Algorithm  ROC AUC  Accuracy  Precision  f1 Score\n",
       "3            Multinomial NB    80.00     85.57      83.31     74.20\n",
       "0       Logistic Regression    79.59     85.97      86.29     72.45\n",
       "1                Kernel SVM    79.34     85.40      87.63     71.56\n",
       "4             Random Forest    77.96     83.93      82.68     70.42\n",
       "6                  XG Boost    76.86     83.01      81.75     68.82\n",
       "2                       KNN    76.31     80.95      82.24     67.59\n",
       "5  Decision Tree Classifier    73.14     73.03      70.04     68.25"
      ]
     },
     "execution_count": 20,
     "metadata": {},
     "output_type": "execute_result"
    }
   ],
   "source": [
    "acc_results =[]\n",
    "auc_results =[]\n",
    "pre_results =[]\n",
    "f1_results =[]\n",
    "names = []\n",
    "\n",
    "result_col = [\"Algorithm\", \"ROC AUC\", \"Accuracy\", \"Precision\", \"f1 Score\"]\n",
    "model_results = pd.DataFrame(columns = result_col)\n",
    "\n",
    "i=0\n",
    "# K- fold cross validation\n",
    "\n",
    "for name, model in models:\n",
    "    names.append(name)\n",
    "    # kfold = model_selection.KFold(n_splits=10)\n",
    "    \n",
    "    cv_acc_results = model_selection.cross_val_score(model, X_train, y_train, \n",
    "                     scoring=\"accuracy\")\n",
    "    cv_auc_results = model_selection.cross_val_score(model, X_train, y_train,\n",
    "                     scoring=\"roc_auc\")\n",
    "    cv_pre_results = model_selection.cross_val_score(model, X_train, y_train,\n",
    "                     scoring=\"precision\")\n",
    "    cv_f1_results = model_selection.cross_val_score(model, X_train, y_train,\n",
    "                     scoring=\"f1\")\n",
    "    acc_results.append(cv_acc_results)\n",
    "    auc_results.append(cv_auc_results)\n",
    "    pre_results.append(cv_pre_results)\n",
    "    f1_results.append(cv_f1_results)\n",
    "    \n",
    "    \n",
    "    model_results.loc[i] = [name, \n",
    "                           round(cv_acc_results.mean()*100,2),\n",
    "                           round(cv_auc_results.mean()*100,2),\n",
    "                           round(cv_pre_results.mean()*100,2),\n",
    "                           round(cv_f1_results.mean()*100,2)]\n",
    "    i+=1\n",
    "\n",
    "model_results.sort_values(by = ['ROC AUC'], ascending=False)"
   ]
  },
  {
   "cell_type": "markdown",
   "id": "6dd07977",
   "metadata": {
    "papermill": {
     "duration": 0.016561,
     "end_time": "2023-01-24T20:56:14.813706",
     "exception": false,
     "start_time": "2023-01-24T20:56:14.797145",
     "status": "completed"
    },
    "tags": []
   },
   "source": [
    "# HYPER PARAMETER TUNING"
   ]
  },
  {
   "cell_type": "markdown",
   "id": "270c893a",
   "metadata": {
    "papermill": {
     "duration": 0.016587,
     "end_time": "2023-01-24T20:56:14.847088",
     "exception": false,
     "start_time": "2023-01-24T20:56:14.830501",
     "status": "completed"
    },
    "tags": []
   },
   "source": [
    "### Decision Tree"
   ]
  },
  {
   "cell_type": "code",
   "execution_count": 21,
   "id": "95dafa18",
   "metadata": {
    "execution": {
     "iopub.execute_input": "2023-01-24T20:56:14.883271Z",
     "iopub.status.busy": "2023-01-24T20:56:14.882583Z",
     "iopub.status.idle": "2023-01-24T20:56:16.712645Z",
     "shell.execute_reply": "2023-01-24T20:56:16.711857Z"
    },
    "papermill": {
     "duration": 1.850806,
     "end_time": "2023-01-24T20:56:16.714714",
     "exception": false,
     "start_time": "2023-01-24T20:56:14.863908",
     "status": "completed"
    },
    "tags": []
   },
   "outputs": [
    {
     "data": {
      "text/plain": [
       "DecisionTreeClassifier()"
      ]
     },
     "execution_count": 21,
     "metadata": {},
     "output_type": "execute_result"
    }
   ],
   "source": [
    "modelD= DecisionTreeClassifier()\n",
    "modelD.fit(X_train, y_train)"
   ]
  },
  {
   "cell_type": "code",
   "execution_count": 22,
   "id": "9b8f0095",
   "metadata": {
    "execution": {
     "iopub.execute_input": "2023-01-24T20:56:16.750743Z",
     "iopub.status.busy": "2023-01-24T20:56:16.750156Z",
     "iopub.status.idle": "2023-01-24T20:56:16.764514Z",
     "shell.execute_reply": "2023-01-24T20:56:16.763762Z"
    },
    "papermill": {
     "duration": 0.034798,
     "end_time": "2023-01-24T20:56:16.766585",
     "exception": false,
     "start_time": "2023-01-24T20:56:16.731787",
     "status": "completed"
    },
    "tags": []
   },
   "outputs": [],
   "source": [
    "pred_train_D = modelD.predict(X_train)\n",
    "pred_test_D=modelD.predict(X_test)"
   ]
  },
  {
   "cell_type": "code",
   "execution_count": 23,
   "id": "bf1a12d2",
   "metadata": {
    "execution": {
     "iopub.execute_input": "2023-01-24T20:56:16.802510Z",
     "iopub.status.busy": "2023-01-24T20:56:16.801914Z",
     "iopub.status.idle": "2023-01-24T20:56:16.808818Z",
     "shell.execute_reply": "2023-01-24T20:56:16.807607Z"
    },
    "papermill": {
     "duration": 0.027319,
     "end_time": "2023-01-24T20:56:16.810873",
     "exception": false,
     "start_time": "2023-01-24T20:56:16.783554",
     "status": "completed"
    },
    "tags": []
   },
   "outputs": [
    {
     "name": "stdout",
     "output_type": "stream",
     "text": [
      "Training accuracy  0.990\n",
      "Testing accuracy  0.728\n"
     ]
    }
   ],
   "source": [
    "acc_train_D = accuracy_score(pred_train_D, y_train)\n",
    "acc_test_D = accuracy_score(pred_test_D, y_test)\n",
    "print(f'Training accuracy {acc_train_D: .3f}') \n",
    "print(f'Testing accuracy {acc_test_D: .3f}')"
   ]
  },
  {
   "cell_type": "code",
   "execution_count": 24,
   "id": "234cf3d8",
   "metadata": {
    "execution": {
     "iopub.execute_input": "2023-01-24T20:56:16.847482Z",
     "iopub.status.busy": "2023-01-24T20:56:16.846584Z",
     "iopub.status.idle": "2023-01-24T21:20:38.227114Z",
     "shell.execute_reply": "2023-01-24T21:20:38.225584Z"
    },
    "papermill": {
     "duration": 1461.41965,
     "end_time": "2023-01-24T21:20:38.247806",
     "exception": false,
     "start_time": "2023-01-24T20:56:16.828156",
     "status": "completed"
    },
    "tags": []
   },
   "outputs": [
    {
     "name": "stdout",
     "output_type": "stream",
     "text": [
      "Fitting 5 folds for each of 100 candidates, totalling 500 fits\n",
      "\n",
      "Best parameters found:\n",
      "{'criterion': 'gini', 'max_leaf_nodes': 100}\n",
      "\n",
      "Grid scores:\n",
      "0.764 (+/-0.016) for {'criterion': 'gini', 'max_leaf_nodes': 100}\n",
      "0.763 (+/-0.014) for {'criterion': 'gini', 'max_leaf_nodes': 101}\n",
      "0.762 (+/-0.016) for {'criterion': 'gini', 'max_leaf_nodes': 102}\n",
      "0.762 (+/-0.016) for {'criterion': 'gini', 'max_leaf_nodes': 103}\n",
      "0.762 (+/-0.018) for {'criterion': 'gini', 'max_leaf_nodes': 104}\n",
      "0.762 (+/-0.015) for {'criterion': 'gini', 'max_leaf_nodes': 105}\n",
      "0.761 (+/-0.017) for {'criterion': 'gini', 'max_leaf_nodes': 106}\n",
      "0.761 (+/-0.014) for {'criterion': 'gini', 'max_leaf_nodes': 107}\n",
      "0.763 (+/-0.014) for {'criterion': 'gini', 'max_leaf_nodes': 108}\n",
      "0.762 (+/-0.016) for {'criterion': 'gini', 'max_leaf_nodes': 109}\n",
      "0.761 (+/-0.016) for {'criterion': 'gini', 'max_leaf_nodes': 110}\n",
      "0.761 (+/-0.013) for {'criterion': 'gini', 'max_leaf_nodes': 111}\n",
      "0.760 (+/-0.015) for {'criterion': 'gini', 'max_leaf_nodes': 112}\n",
      "0.761 (+/-0.014) for {'criterion': 'gini', 'max_leaf_nodes': 113}\n",
      "0.761 (+/-0.015) for {'criterion': 'gini', 'max_leaf_nodes': 114}\n",
      "0.761 (+/-0.014) for {'criterion': 'gini', 'max_leaf_nodes': 115}\n",
      "0.760 (+/-0.012) for {'criterion': 'gini', 'max_leaf_nodes': 116}\n",
      "0.761 (+/-0.014) for {'criterion': 'gini', 'max_leaf_nodes': 117}\n",
      "0.760 (+/-0.014) for {'criterion': 'gini', 'max_leaf_nodes': 118}\n",
      "0.762 (+/-0.013) for {'criterion': 'gini', 'max_leaf_nodes': 119}\n",
      "0.761 (+/-0.015) for {'criterion': 'gini', 'max_leaf_nodes': 120}\n",
      "0.760 (+/-0.018) for {'criterion': 'gini', 'max_leaf_nodes': 121}\n",
      "0.760 (+/-0.016) for {'criterion': 'gini', 'max_leaf_nodes': 122}\n",
      "0.761 (+/-0.015) for {'criterion': 'gini', 'max_leaf_nodes': 123}\n",
      "0.760 (+/-0.017) for {'criterion': 'gini', 'max_leaf_nodes': 124}\n",
      "0.761 (+/-0.016) for {'criterion': 'gini', 'max_leaf_nodes': 125}\n",
      "0.760 (+/-0.018) for {'criterion': 'gini', 'max_leaf_nodes': 126}\n",
      "0.759 (+/-0.018) for {'criterion': 'gini', 'max_leaf_nodes': 127}\n",
      "0.760 (+/-0.016) for {'criterion': 'gini', 'max_leaf_nodes': 128}\n",
      "0.759 (+/-0.019) for {'criterion': 'gini', 'max_leaf_nodes': 129}\n",
      "0.760 (+/-0.015) for {'criterion': 'gini', 'max_leaf_nodes': 130}\n",
      "0.758 (+/-0.015) for {'criterion': 'gini', 'max_leaf_nodes': 131}\n",
      "0.759 (+/-0.019) for {'criterion': 'gini', 'max_leaf_nodes': 132}\n",
      "0.758 (+/-0.016) for {'criterion': 'gini', 'max_leaf_nodes': 133}\n",
      "0.757 (+/-0.013) for {'criterion': 'gini', 'max_leaf_nodes': 134}\n",
      "0.758 (+/-0.018) for {'criterion': 'gini', 'max_leaf_nodes': 135}\n",
      "0.758 (+/-0.016) for {'criterion': 'gini', 'max_leaf_nodes': 136}\n",
      "0.759 (+/-0.017) for {'criterion': 'gini', 'max_leaf_nodes': 137}\n",
      "0.757 (+/-0.018) for {'criterion': 'gini', 'max_leaf_nodes': 138}\n",
      "0.758 (+/-0.013) for {'criterion': 'gini', 'max_leaf_nodes': 139}\n",
      "0.759 (+/-0.016) for {'criterion': 'gini', 'max_leaf_nodes': 140}\n",
      "0.757 (+/-0.014) for {'criterion': 'gini', 'max_leaf_nodes': 141}\n",
      "0.758 (+/-0.015) for {'criterion': 'gini', 'max_leaf_nodes': 142}\n",
      "0.758 (+/-0.016) for {'criterion': 'gini', 'max_leaf_nodes': 143}\n",
      "0.757 (+/-0.016) for {'criterion': 'gini', 'max_leaf_nodes': 144}\n",
      "0.756 (+/-0.015) for {'criterion': 'gini', 'max_leaf_nodes': 145}\n",
      "0.756 (+/-0.013) for {'criterion': 'gini', 'max_leaf_nodes': 146}\n",
      "0.757 (+/-0.011) for {'criterion': 'gini', 'max_leaf_nodes': 147}\n",
      "0.758 (+/-0.017) for {'criterion': 'gini', 'max_leaf_nodes': 148}\n",
      "0.758 (+/-0.014) for {'criterion': 'gini', 'max_leaf_nodes': 149}\n",
      "0.756 (+/-0.015) for {'criterion': 'gini', 'max_leaf_nodes': 150}\n",
      "0.755 (+/-0.018) for {'criterion': 'gini', 'max_leaf_nodes': 151}\n",
      "0.760 (+/-0.016) for {'criterion': 'gini', 'max_leaf_nodes': 152}\n",
      "0.758 (+/-0.013) for {'criterion': 'gini', 'max_leaf_nodes': 153}\n",
      "0.756 (+/-0.013) for {'criterion': 'gini', 'max_leaf_nodes': 154}\n",
      "0.757 (+/-0.015) for {'criterion': 'gini', 'max_leaf_nodes': 155}\n",
      "0.757 (+/-0.014) for {'criterion': 'gini', 'max_leaf_nodes': 156}\n",
      "0.756 (+/-0.019) for {'criterion': 'gini', 'max_leaf_nodes': 157}\n",
      "0.756 (+/-0.014) for {'criterion': 'gini', 'max_leaf_nodes': 158}\n",
      "0.757 (+/-0.016) for {'criterion': 'gini', 'max_leaf_nodes': 159}\n",
      "0.756 (+/-0.010) for {'criterion': 'gini', 'max_leaf_nodes': 160}\n",
      "0.758 (+/-0.015) for {'criterion': 'gini', 'max_leaf_nodes': 161}\n",
      "0.757 (+/-0.016) for {'criterion': 'gini', 'max_leaf_nodes': 162}\n",
      "0.756 (+/-0.013) for {'criterion': 'gini', 'max_leaf_nodes': 163}\n",
      "0.755 (+/-0.017) for {'criterion': 'gini', 'max_leaf_nodes': 164}\n",
      "0.755 (+/-0.014) for {'criterion': 'gini', 'max_leaf_nodes': 165}\n",
      "0.756 (+/-0.017) for {'criterion': 'gini', 'max_leaf_nodes': 166}\n",
      "0.757 (+/-0.014) for {'criterion': 'gini', 'max_leaf_nodes': 167}\n",
      "0.757 (+/-0.017) for {'criterion': 'gini', 'max_leaf_nodes': 168}\n",
      "0.755 (+/-0.011) for {'criterion': 'gini', 'max_leaf_nodes': 169}\n",
      "0.754 (+/-0.015) for {'criterion': 'gini', 'max_leaf_nodes': 170}\n",
      "0.756 (+/-0.015) for {'criterion': 'gini', 'max_leaf_nodes': 171}\n",
      "0.755 (+/-0.011) for {'criterion': 'gini', 'max_leaf_nodes': 172}\n",
      "0.755 (+/-0.017) for {'criterion': 'gini', 'max_leaf_nodes': 173}\n",
      "0.756 (+/-0.013) for {'criterion': 'gini', 'max_leaf_nodes': 174}\n",
      "0.755 (+/-0.016) for {'criterion': 'gini', 'max_leaf_nodes': 175}\n",
      "0.754 (+/-0.013) for {'criterion': 'gini', 'max_leaf_nodes': 176}\n",
      "0.756 (+/-0.012) for {'criterion': 'gini', 'max_leaf_nodes': 177}\n",
      "0.754 (+/-0.015) for {'criterion': 'gini', 'max_leaf_nodes': 178}\n",
      "0.757 (+/-0.016) for {'criterion': 'gini', 'max_leaf_nodes': 179}\n",
      "0.755 (+/-0.011) for {'criterion': 'gini', 'max_leaf_nodes': 180}\n",
      "0.754 (+/-0.015) for {'criterion': 'gini', 'max_leaf_nodes': 181}\n",
      "0.756 (+/-0.014) for {'criterion': 'gini', 'max_leaf_nodes': 182}\n",
      "0.755 (+/-0.014) for {'criterion': 'gini', 'max_leaf_nodes': 183}\n",
      "0.754 (+/-0.017) for {'criterion': 'gini', 'max_leaf_nodes': 184}\n",
      "0.753 (+/-0.018) for {'criterion': 'gini', 'max_leaf_nodes': 185}\n",
      "0.755 (+/-0.016) for {'criterion': 'gini', 'max_leaf_nodes': 186}\n",
      "0.754 (+/-0.018) for {'criterion': 'gini', 'max_leaf_nodes': 187}\n",
      "0.753 (+/-0.015) for {'criterion': 'gini', 'max_leaf_nodes': 188}\n",
      "0.755 (+/-0.016) for {'criterion': 'gini', 'max_leaf_nodes': 189}\n",
      "0.754 (+/-0.015) for {'criterion': 'gini', 'max_leaf_nodes': 190}\n",
      "0.756 (+/-0.014) for {'criterion': 'gini', 'max_leaf_nodes': 191}\n",
      "0.754 (+/-0.013) for {'criterion': 'gini', 'max_leaf_nodes': 192}\n",
      "0.756 (+/-0.012) for {'criterion': 'gini', 'max_leaf_nodes': 193}\n",
      "0.754 (+/-0.013) for {'criterion': 'gini', 'max_leaf_nodes': 194}\n",
      "0.753 (+/-0.016) for {'criterion': 'gini', 'max_leaf_nodes': 195}\n",
      "0.755 (+/-0.009) for {'criterion': 'gini', 'max_leaf_nodes': 196}\n",
      "0.755 (+/-0.011) for {'criterion': 'gini', 'max_leaf_nodes': 197}\n",
      "0.754 (+/-0.011) for {'criterion': 'gini', 'max_leaf_nodes': 198}\n",
      "0.754 (+/-0.012) for {'criterion': 'gini', 'max_leaf_nodes': 199}\n"
     ]
    }
   ],
   "source": [
    "tuned_parameters = [{'criterion':['gini'],\n",
    "                     'max_leaf_nodes': range(100,200)}] # hyperparameters to tune\n",
    "\n",
    "clf_D = GridSearchCV(DecisionTreeClassifier(), tuned_parameters, \n",
    "                   verbose=1, n_jobs=-1) # grid search model\n",
    "clf_D.fit(X_train, y_train) # evaluate hyper-parameters\n",
    "\n",
    "print(\"\\nBest parameters found:\")\n",
    "print(clf_D.best_params_) # best hyperparameter balues\n",
    "\n",
    "print(\"\\nGrid scores:\")\n",
    "means_D = clf_D.cv_results_['mean_test_score'] # mean accuracy with folds\n",
    "stds_D = clf_D.cv_results_['std_test_score'] # standard deviation of accuracies\n",
    "# for each hyperparameter combination show mean +/- 2 standard-deviations \n",
    "for mean, std, params in zip(means_D, stds_D, clf_D.cv_results_['params']):\n",
    "    print(\"%0.3f (+/-%0.03f) for %r\" %(mean, std * 2, params))"
   ]
  },
  {
   "cell_type": "markdown",
   "id": "200cf04b",
   "metadata": {
    "papermill": {
     "duration": 0.017031,
     "end_time": "2023-01-24T21:20:38.282917",
     "exception": false,
     "start_time": "2023-01-24T21:20:38.265886",
     "status": "completed"
    },
    "tags": []
   },
   "source": [
    "### Model Results on best Parameters"
   ]
  },
  {
   "cell_type": "code",
   "execution_count": 25,
   "id": "d9263c49",
   "metadata": {
    "execution": {
     "iopub.execute_input": "2023-01-24T21:20:38.319944Z",
     "iopub.status.busy": "2023-01-24T21:20:38.319503Z",
     "iopub.status.idle": "2023-01-24T21:20:39.419057Z",
     "shell.execute_reply": "2023-01-24T21:20:39.417914Z"
    },
    "papermill": {
     "duration": 1.121092,
     "end_time": "2023-01-24T21:20:39.421511",
     "exception": false,
     "start_time": "2023-01-24T21:20:38.300419",
     "status": "completed"
    },
    "tags": []
   },
   "outputs": [
    {
     "name": "stdout",
     "output_type": "stream",
     "text": [
      "DecisionTreeClassifier(max_leaf_nodes=200)\n",
      "Results on test data\n",
      "Test accuracy =  0.7551\n",
      "Test precision =  0.7385\n",
      "Test recall =  0.6651\n",
      "Classification report:\n",
      "              precision    recall  f1-score   support\n",
      "\n",
      "           0       0.77      0.82      0.79       869\n",
      "           1       0.74      0.67      0.70       654\n",
      "\n",
      "    accuracy                           0.76      1523\n",
      "   macro avg       0.75      0.74      0.75      1523\n",
      "weighted avg       0.75      0.76      0.75      1523\n",
      "\n",
      "Confusion matrix (Rows actual, Columns predicted):\n",
      "     0    1\n",
      "0  715  154\n",
      "1  219  435\n",
      "\n",
      "ROC curve\n"
     ]
    },
    {
     "name": "stderr",
     "output_type": "stream",
     "text": [
      "/opt/conda/lib/python3.7/site-packages/sklearn/utils/deprecation.py:87: FutureWarning: Function plot_roc_curve is deprecated; Function :func:`plot_roc_curve` is deprecated in 1.0 and will be removed in 1.2. Use one of the class methods: :meth:`sklearn.metric.RocCurveDisplay.from_predictions` or :meth:`sklearn.metric.RocCurveDisplay.from_estimator`.\n",
      "  warnings.warn(msg, category=FutureWarning)\n"
     ]
    },
    {
     "data": {
      "image/png": "[encoded data removed]",
      "text/plain": [
       "<Figure size 432x288 with 1 Axes>"
      ]
     },
     "metadata": {
      "needs_background": "light"
     },
     "output_type": "display_data"
    }
   ],
   "source": [
    "criterion = 'gini' #'{'class_weight': 'balanced', 'criterion': 'gini', 'max_depth': 20, 'max_features': 'sqrt', 'max_leaf_nodes': 22, 'min_samples_leaf': 4, 'min_samples_split': 2}\n",
    "# Train and test model\n",
    "good_model_D = DecisionTreeClassifier(criterion=criterion,\n",
    "                                    max_leaf_nodes=200) # create model \n",
    "print(good_model_D) # display model parameters\n",
    "good_model_D.fit(X_train, y_train) # train model\n",
    "pred_D = good_model_D.predict(X_test) # predicted output for test examples\n",
    "print(\"Results on test data\")\n",
    "acc_D = accuracy_score(y_test, pred_D) # accuracy on test examples\n",
    "prec_D = precision_score(y_test, pred_D) # precision on test examples\n",
    "reca_D = recall_score(y_test, pred_D) # recall on test examples\n",
    "print(f'Test accuracy = {acc_D: .4f}') # round to 4 decimal places\n",
    "print(f'Test precision = {prec_D: .4f}') # round to 4 decimal places\n",
    "print(f'Test recall = {reca_D: .4f}') # round to 4 decimal places\n",
    "print(\"Classification report:\")\n",
    "print(classification_report(y_test, pred_D))\n",
    "print(\"Confusion matrix (Rows actual, Columns predicted):\")\n",
    "print(pd.DataFrame(confusion_matrix(y_test, pred_D)))\n",
    "print('\\nROC curve')\n",
    "plot_roc_curve(good_model_D, X_test, y_test)  # \n",
    "plt.show()"
   ]
  },
  {
   "cell_type": "markdown",
   "id": "2d882ba9",
   "metadata": {
    "papermill": {
     "duration": 0.018288,
     "end_time": "2023-01-24T21:20:39.458728",
     "exception": false,
     "start_time": "2023-01-24T21:20:39.440440",
     "status": "completed"
    },
    "tags": []
   },
   "source": [
    "### Random Forest Model"
   ]
  },
  {
   "cell_type": "code",
   "execution_count": 26,
   "id": "9f6e951f",
   "metadata": {
    "execution": {
     "iopub.execute_input": "2023-01-24T21:20:39.497049Z",
     "iopub.status.busy": "2023-01-24T21:20:39.496595Z",
     "iopub.status.idle": "2023-01-24T21:20:47.400426Z",
     "shell.execute_reply": "2023-01-24T21:20:47.399403Z"
    },
    "papermill": {
     "duration": 7.925934,
     "end_time": "2023-01-24T21:20:47.402900",
     "exception": false,
     "start_time": "2023-01-24T21:20:39.476966",
     "status": "completed"
    },
    "tags": []
   },
   "outputs": [
    {
     "data": {
      "text/plain": [
       "RandomForestClassifier()"
      ]
     },
     "execution_count": 26,
     "metadata": {},
     "output_type": "execute_result"
    }
   ],
   "source": [
    "modelR = RandomForestClassifier()\n",
    "modelR.fit(X_train, y_train) "
   ]
  },
  {
   "cell_type": "code",
   "execution_count": 27,
   "id": "ce1a613c",
   "metadata": {
    "execution": {
     "iopub.execute_input": "2023-01-24T21:20:47.441045Z",
     "iopub.status.busy": "2023-01-24T21:20:47.440658Z",
     "iopub.status.idle": "2023-01-24T21:20:48.465069Z",
     "shell.execute_reply": "2023-01-24T21:20:48.463578Z"
    },
    "papermill": {
     "duration": 1.04711,
     "end_time": "2023-01-24T21:20:48.468283",
     "exception": false,
     "start_time": "2023-01-24T21:20:47.421173",
     "status": "completed"
    },
    "tags": []
   },
   "outputs": [
    {
     "name": "stdout",
     "output_type": "stream",
     "text": [
      "Training accuracy  0.990\n",
      "Testing accuracy  0.780\n"
     ]
    }
   ],
   "source": [
    "pred_train = modelR.predict(X_train)\n",
    "pred_test=modelR.predict(X_test)\n",
    "acc_train = accuracy_score(pred_train, y_train)\n",
    "acc_test = accuracy_score(pred_test, y_test)\n",
    "print(f'Training accuracy {acc_train: .3f}') \n",
    "print(f'Testing accuracy {acc_test: .3f}')"
   ]
  },
  {
   "cell_type": "code",
   "execution_count": 28,
   "id": "9f3e6eee",
   "metadata": {
    "execution": {
     "iopub.execute_input": "2023-01-24T21:20:48.507854Z",
     "iopub.status.busy": "2023-01-24T21:20:48.507370Z",
     "iopub.status.idle": "2023-01-24T21:21:09.653306Z",
     "shell.execute_reply": "2023-01-24T21:21:09.652075Z"
    },
    "papermill": {
     "duration": 21.16956,
     "end_time": "2023-01-24T21:21:09.656659",
     "exception": false,
     "start_time": "2023-01-24T21:20:48.487099",
     "status": "completed"
    },
    "tags": []
   },
   "outputs": [
    {
     "name": "stdout",
     "output_type": "stream",
     "text": [
      "Fitting 5 folds for each of 27 candidates, totalling 135 fits\n",
      "\n",
      "Best parameters found:\n",
      "{'max_features': 25, 'max_leaf_nodes': 24, 'n_estimators': 50}\n",
      "\n",
      "Grid scores:\n",
      "0.570 (+/-0.001) for {'max_features': 15, 'max_leaf_nodes': 8, 'n_estimators': 50}\n",
      "0.571 (+/-0.003) for {'max_features': 15, 'max_leaf_nodes': 8, 'n_estimators': 75}\n",
      "0.570 (+/-0.001) for {'max_features': 15, 'max_leaf_nodes': 8, 'n_estimators': 100}\n",
      "0.582 (+/-0.005) for {'max_features': 15, 'max_leaf_nodes': 16, 'n_estimators': 50}\n",
      "0.574 (+/-0.005) for {'max_features': 15, 'max_leaf_nodes': 16, 'n_estimators': 75}\n",
      "0.574 (+/-0.007) for {'max_features': 15, 'max_leaf_nodes': 16, 'n_estimators': 100}\n",
      "0.595 (+/-0.012) for {'max_features': 15, 'max_leaf_nodes': 24, 'n_estimators': 50}\n",
      "0.597 (+/-0.013) for {'max_features': 15, 'max_leaf_nodes': 24, 'n_estimators': 75}\n",
      "0.595 (+/-0.008) for {'max_features': 15, 'max_leaf_nodes': 24, 'n_estimators': 100}\n",
      "0.571 (+/-0.002) for {'max_features': 20, 'max_leaf_nodes': 8, 'n_estimators': 50}\n",
      "0.571 (+/-0.001) for {'max_features': 20, 'max_leaf_nodes': 8, 'n_estimators': 75}\n",
      "0.571 (+/-0.002) for {'max_features': 20, 'max_leaf_nodes': 8, 'n_estimators': 100}\n",
      "0.591 (+/-0.014) for {'max_features': 20, 'max_leaf_nodes': 16, 'n_estimators': 50}\n",
      "0.585 (+/-0.007) for {'max_features': 20, 'max_leaf_nodes': 16, 'n_estimators': 75}\n",
      "0.585 (+/-0.010) for {'max_features': 20, 'max_leaf_nodes': 16, 'n_estimators': 100}\n",
      "0.611 (+/-0.011) for {'max_features': 20, 'max_leaf_nodes': 24, 'n_estimators': 50}\n",
      "0.613 (+/-0.008) for {'max_features': 20, 'max_leaf_nodes': 24, 'n_estimators': 75}\n",
      "0.613 (+/-0.008) for {'max_features': 20, 'max_leaf_nodes': 24, 'n_estimators': 100}\n",
      "0.574 (+/-0.009) for {'max_features': 25, 'max_leaf_nodes': 8, 'n_estimators': 50}\n",
      "0.573 (+/-0.004) for {'max_features': 25, 'max_leaf_nodes': 8, 'n_estimators': 75}\n",
      "0.570 (+/-0.001) for {'max_features': 25, 'max_leaf_nodes': 8, 'n_estimators': 100}\n",
      "0.599 (+/-0.013) for {'max_features': 25, 'max_leaf_nodes': 16, 'n_estimators': 50}\n",
      "0.597 (+/-0.004) for {'max_features': 25, 'max_leaf_nodes': 16, 'n_estimators': 75}\n",
      "0.592 (+/-0.007) for {'max_features': 25, 'max_leaf_nodes': 16, 'n_estimators': 100}\n",
      "0.630 (+/-0.009) for {'max_features': 25, 'max_leaf_nodes': 24, 'n_estimators': 50}\n",
      "0.624 (+/-0.011) for {'max_features': 25, 'max_leaf_nodes': 24, 'n_estimators': 75}\n",
      "0.630 (+/-0.014) for {'max_features': 25, 'max_leaf_nodes': 24, 'n_estimators': 100}\n"
     ]
    }
   ],
   "source": [
    "tuned_parameters = [{'n_estimators': [50, 75,100],\n",
    "                     'max_features': [15, 20, 25],\n",
    "                     'max_leaf_nodes': [8, 16, 24]}] # hyperparameters to tune\n",
    "\n",
    "clfR = GridSearchCV(RandomForestClassifier(), tuned_parameters, \n",
    "                   verbose=1, n_jobs=-1) # grid search model\n",
    "clfR.fit(X_train, y_train) # evaluate hyper-parameters\n",
    "\n",
    "print(\"\\nBest parameters found:\")\n",
    "print(clfR.best_params_) # best hyperparameter values\n",
    "\n",
    "print(\"\\nGrid scores:\")\n",
    "means = clfR.cv_results_['mean_test_score'] # mean accuracy with folds\n",
    "stds = clfR.cv_results_['std_test_score'] # standard deviation of accuracies\n",
    "# for each hyperparameter combination show mean +/- 2 standard-deviations \n",
    "for mean, std, params in zip(means, stds, clfR.cv_results_['params']):\n",
    "    print(\"%0.3f (+/-%0.03f) for %r\" %(mean, std * 2, params)) "
   ]
  },
  {
   "cell_type": "markdown",
   "id": "e684c1b2",
   "metadata": {
    "papermill": {
     "duration": 0.018039,
     "end_time": "2023-01-24T21:21:09.693443",
     "exception": false,
     "start_time": "2023-01-24T21:21:09.675404",
     "status": "completed"
    },
    "tags": []
   },
   "source": [
    "### Model Results For Best Parameters (Random forest)"
   ]
  },
  {
   "cell_type": "code",
   "execution_count": 29,
   "id": "3115878d",
   "metadata": {
    "execution": {
     "iopub.execute_input": "2023-01-24T21:21:09.732905Z",
     "iopub.status.busy": "2023-01-24T21:21:09.731764Z",
     "iopub.status.idle": "2023-01-24T21:21:10.284498Z",
     "shell.execute_reply": "2023-01-24T21:21:10.283334Z"
    },
    "papermill": {
     "duration": 0.575166,
     "end_time": "2023-01-24T21:21:10.287069",
     "exception": false,
     "start_time": "2023-01-24T21:21:09.711903",
     "status": "completed"
    },
    "tags": []
   },
   "outputs": [
    {
     "name": "stdout",
     "output_type": "stream",
     "text": [
      "RandomForestClassifier(max_features=25, max_leaf_nodes=24, n_estimators=75)\n",
      "Results on test data\n",
      "Test accuracy =  0.6277\n",
      "Test precision =  0.9888\n",
      "Test recall =  0.1346\n",
      "Classification report:\n",
      "              precision    recall  f1-score   support\n",
      "\n",
      "           0       0.61      1.00      0.75       869\n",
      "           1       0.99      0.13      0.24       654\n",
      "\n",
      "    accuracy                           0.63      1523\n",
      "   macro avg       0.80      0.57      0.50      1523\n",
      "weighted avg       0.77      0.63      0.53      1523\n",
      "\n",
      "Confusion matrix (Rows actual, Columns predicted):\n",
      "     0   1\n",
      "0  868   1\n",
      "1  566  88\n",
      "\n",
      "ROC curve\n"
     ]
    },
    {
     "name": "stderr",
     "output_type": "stream",
     "text": [
      "/opt/conda/lib/python3.7/site-packages/sklearn/utils/deprecation.py:87: FutureWarning: Function plot_roc_curve is deprecated; Function :func:`plot_roc_curve` is deprecated in 1.0 and will be removed in 1.2. Use one of the class methods: :meth:`sklearn.metric.RocCurveDisplay.from_predictions` or :meth:`sklearn.metric.RocCurveDisplay.from_estimator`.\n",
      "  warnings.warn(msg, category=FutureWarning)\n"
     ]
    },
    {
     "data": {
      "image/png": "[encoded data removed]",
      "text/plain": [
       "<Figure size 432x288 with 1 Axes>"
      ]
     },
     "metadata": {
      "needs_background": "light"
     },
     "output_type": "display_data"
    }
   ],
   "source": [
    "# Specify non-default hyper-parameter values\n",
    "max_features = 25\n",
    "max_leaf_nodes = 24\n",
    "n_estimators = 75\n",
    "# Train and test model\n",
    "good_model = RandomForestClassifier(max_leaf_nodes = max_leaf_nodes,\n",
    "                                    max_features = max_features, \n",
    "                                    n_estimators=n_estimators, ) # create model \n",
    "print(good_model) # display model parameters\n",
    "good_model.fit(X_train, y_train) # train model\n",
    "pred = good_model.predict(X_test) # predicted output for test examples\n",
    "print(\"Results on test data\")\n",
    "acc = accuracy_score(y_test, pred) # accuracy on test examples\n",
    "prec = precision_score(y_test, pred) # precision on test examples\n",
    "reca = recall_score(y_test, pred) # recall on test examples\n",
    "print(f'Test accuracy = {acc: .4f}') # round to 4 decimal places\n",
    "print(f'Test precision = {prec: .4f}') # round to 4 decimal places\n",
    "print(f'Test recall = {reca: .4f}') # round to 4 decimal places\n",
    "print(\"Classification report:\")\n",
    "print(classification_report(y_test, pred))\n",
    "print(\"Confusion matrix (Rows actual, Columns predicted):\")\n",
    "print(pd.DataFrame(confusion_matrix(y_test, pred)))\n",
    "print('\\nROC curve')\n",
    "plot_roc_curve(good_model, X_test, y_test)  # \n",
    "plt.show()"
   ]
  },
  {
   "cell_type": "markdown",
   "id": "a2dc8971",
   "metadata": {
    "papermill": {
     "duration": 0.018921,
     "end_time": "2023-01-24T21:21:10.325408",
     "exception": false,
     "start_time": "2023-01-24T21:21:10.306487",
     "status": "completed"
    },
    "tags": []
   },
   "source": [
    "### LOGISTIC REGRESSION"
   ]
  },
  {
   "cell_type": "code",
   "execution_count": 30,
   "id": "daab252e",
   "metadata": {
    "execution": {
     "iopub.execute_input": "2023-01-24T21:21:10.366061Z",
     "iopub.status.busy": "2023-01-24T21:21:10.364958Z",
     "iopub.status.idle": "2023-01-24T21:21:10.748724Z",
     "shell.execute_reply": "2023-01-24T21:21:10.747309Z"
    },
    "papermill": {
     "duration": 0.408231,
     "end_time": "2023-01-24T21:21:10.752677",
     "exception": false,
     "start_time": "2023-01-24T21:21:10.344446",
     "status": "completed"
    },
    "tags": []
   },
   "outputs": [
    {
     "data": {
      "text/plain": [
       "LogisticRegression()"
      ]
     },
     "execution_count": 30,
     "metadata": {},
     "output_type": "execute_result"
    }
   ],
   "source": [
    "modelL=LogisticRegression()\n",
    "modelL.fit(X_train,y_train)"
   ]
  },
  {
   "cell_type": "code",
   "execution_count": 31,
   "id": "9edb3c0f",
   "metadata": {
    "execution": {
     "iopub.execute_input": "2023-01-24T21:21:10.878931Z",
     "iopub.status.busy": "2023-01-24T21:21:10.878536Z",
     "iopub.status.idle": "2023-01-24T21:21:10.889280Z",
     "shell.execute_reply": "2023-01-24T21:21:10.887701Z"
    },
    "papermill": {
     "duration": 0.049846,
     "end_time": "2023-01-24T21:21:10.892342",
     "exception": false,
     "start_time": "2023-01-24T21:21:10.842496",
     "status": "completed"
    },
    "tags": []
   },
   "outputs": [
    {
     "name": "stdout",
     "output_type": "stream",
     "text": [
      "Training accuracy  0.890\n",
      "Testing accuracy  0.796\n"
     ]
    }
   ],
   "source": [
    "pred_trainL = modelL.predict(X_train)\n",
    "pred_testL=modelL.predict(X_test)\n",
    "acc_trainL = accuracy_score(pred_trainL, y_train)\n",
    "acc_testL = accuracy_score(pred_testL, y_test)\n",
    "print(f'Training accuracy {acc_trainL: .3f}') \n",
    "print(f'Testing accuracy {acc_testL: .3f}')"
   ]
  },
  {
   "cell_type": "code",
   "execution_count": 32,
   "id": "008ee595",
   "metadata": {
    "execution": {
     "iopub.execute_input": "2023-01-24T21:21:10.934803Z",
     "iopub.status.busy": "2023-01-24T21:21:10.934028Z",
     "iopub.status.idle": "2023-01-24T21:21:23.410589Z",
     "shell.execute_reply": "2023-01-24T21:21:23.408858Z"
    },
    "papermill": {
     "duration": 12.50182,
     "end_time": "2023-01-24T21:21:23.414920",
     "exception": false,
     "start_time": "2023-01-24T21:21:10.913100",
     "status": "completed"
    },
    "tags": []
   },
   "outputs": [
    {
     "name": "stdout",
     "output_type": "stream",
     "text": [
      "Fitting 5 folds for each of 8 candidates, totalling 40 fits\n",
      "\n",
      "Best parameters found:\n",
      "{'C': 10.0, 'max_iter': 500}\n",
      "\n",
      "Grid scores:\n",
      "0.788 (+/-0.020) for {'C': 10.0, 'max_iter': 500}\n",
      "0.788 (+/-0.020) for {'C': 10.0, 'max_iter': 1000}\n",
      "0.773 (+/-0.016) for {'C': 100.0, 'max_iter': 500}\n",
      "0.773 (+/-0.016) for {'C': 100.0, 'max_iter': 1000}\n",
      "0.764 (+/-0.020) for {'C': 1000.0, 'max_iter': 500}\n",
      "0.764 (+/-0.020) for {'C': 1000.0, 'max_iter': 1000}\n",
      "0.758 (+/-0.023) for {'C': 10000.0, 'max_iter': 500}\n",
      "0.758 (+/-0.019) for {'C': 10000.0, 'max_iter': 1000}\n"
     ]
    }
   ],
   "source": [
    "tuned_parameters = [{'C': [10.0, 100.0, 1000.0, 10000.0],\n",
    "                     'max_iter': [500, 1000]}] # hyperparameters to tune\n",
    "\n",
    "\n",
    "clfL = GridSearchCV(LogisticRegression(), tuned_parameters, \n",
    "                   verbose=1, n_jobs=-1) # grid search model\n",
    "clfL.fit(X_train,y_train) # evaluate hyper-parameters\n",
    "\n",
    "print(\"\\nBest parameters found:\")\n",
    "print(clfL.best_params_) # best hyperparameter values\n",
    "\n",
    "print(\"\\nGrid scores:\")\n",
    "meansL = clfL.cv_results_['mean_test_score'] # mean accuracy with folds\n",
    "stdsL = clfL.cv_results_['std_test_score'] # standard deviation of accuracies\n",
    "# for each hyperparameter combination show mean +/- 2 standard-deviations \n",
    "for mean, std, params in zip(meansL, stdsL, clfL.cv_results_['params']):\n",
    "    print(\"%0.3f (+/-%0.03f) for %r\" %(mean, std * 2, params)) "
   ]
  },
  {
   "cell_type": "markdown",
   "id": "df01be5f",
   "metadata": {
    "papermill": {
     "duration": 0.029545,
     "end_time": "2023-01-24T21:21:23.535275",
     "exception": false,
     "start_time": "2023-01-24T21:21:23.505730",
     "status": "completed"
    },
    "tags": []
   },
   "source": [
    "### Model Results on Best Parameters (Logistic Reg)"
   ]
  },
  {
   "cell_type": "code",
   "execution_count": 33,
   "id": "51bbbea6",
   "metadata": {
    "execution": {
     "iopub.execute_input": "2023-01-24T21:21:23.575402Z",
     "iopub.status.busy": "2023-01-24T21:21:23.574998Z",
     "iopub.status.idle": "2023-01-24T21:21:27.467677Z",
     "shell.execute_reply": "2023-01-24T21:21:27.466709Z"
    },
    "papermill": {
     "duration": 3.916001,
     "end_time": "2023-01-24T21:21:27.470446",
     "exception": false,
     "start_time": "2023-01-24T21:21:23.554445",
     "status": "completed"
    },
    "tags": []
   },
   "outputs": [
    {
     "name": "stdout",
     "output_type": "stream",
     "text": [
      "LogisticRegression(C=1000, max_iter=1000)\n",
      "Results on test data\n",
      "Test accuracy =  0.7597\n",
      "Test precision =  0.7257\n",
      "Test recall =  0.7080\n",
      "Classification report:\n",
      "              precision    recall  f1-score   support\n",
      "\n",
      "           0       0.78      0.80      0.79       869\n",
      "           1       0.73      0.71      0.72       654\n",
      "\n",
      "    accuracy                           0.76      1523\n",
      "   macro avg       0.75      0.75      0.75      1523\n",
      "weighted avg       0.76      0.76      0.76      1523\n",
      "\n",
      "Confusion matrix (Rows actual, Columns predicted):\n",
      "     0    1\n",
      "0  694  175\n",
      "1  191  463\n",
      "\n",
      "ROC curve\n"
     ]
    },
    {
     "name": "stderr",
     "output_type": "stream",
     "text": [
      "/opt/conda/lib/python3.7/site-packages/sklearn/utils/deprecation.py:87: FutureWarning: Function plot_roc_curve is deprecated; Function :func:`plot_roc_curve` is deprecated in 1.0 and will be removed in 1.2. Use one of the class methods: :meth:`sklearn.metric.RocCurveDisplay.from_predictions` or :meth:`sklearn.metric.RocCurveDisplay.from_estimator`.\n",
      "  warnings.warn(msg, category=FutureWarning)\n"
     ]
    },
    {
     "data": {
      "image/png": "[encoded data removed]",
      "text/plain": [
       "<Figure size 432x288 with 1 Axes>"
      ]
     },
     "metadata": {
      "needs_background": "light"
     },
     "output_type": "display_data"
    }
   ],
   "source": [
    "# Specify non-default hyper-parameter values\n",
    "C = 1000\n",
    "max_iter = 1000\n",
    "# Train and test model\n",
    "good_modelL = LogisticRegression(C = C, max_iter=max_iter) # create model \n",
    "print(good_modelL) # display model parameters\n",
    "good_modelL.fit(X_train,y_train) # train model\n",
    "predL = good_modelL.predict(X_test) # predicted output for test examples\n",
    "print(\"Results on test data\")\n",
    "accL = accuracy_score(y_test, predL) # accuracy on test examples\n",
    "precL = precision_score(y_test, predL) # precision on test examples\n",
    "recaL = recall_score(y_test, predL) # recall on test examples\n",
    "print(f'Test accuracy = {accL: .4f}') # round to 4 decimal places\n",
    "print(f'Test precision = {precL: .4f}') # round to 4 decimal places\n",
    "print(f'Test recall = {recaL: .4f}') # round to 4 decimal places\n",
    "print(\"Classification report:\")\n",
    "print(classification_report(y_test, predL))\n",
    "print(\"Confusion matrix (Rows actual, Columns predicted):\")\n",
    "print(pd.DataFrame(confusion_matrix(y_test, predL)))\n",
    "print('\\nROC curve')\n",
    "plot_roc_curve(good_modelL, X_test, y_test)  # \n",
    "plt.show()"
   ]
  },
  {
   "cell_type": "markdown",
   "id": "5b5b2606",
   "metadata": {
    "papermill": {
     "duration": 0.019626,
     "end_time": "2023-01-24T21:21:27.510030",
     "exception": false,
     "start_time": "2023-01-24T21:21:27.490404",
     "status": "completed"
    },
    "tags": []
   },
   "source": [
    "### KNN Model"
   ]
  },
  {
   "cell_type": "code",
   "execution_count": 34,
   "id": "50fa440a",
   "metadata": {
    "execution": {
     "iopub.execute_input": "2023-01-24T21:21:27.552158Z",
     "iopub.status.busy": "2023-01-24T21:21:27.550998Z",
     "iopub.status.idle": "2023-01-24T21:21:29.159201Z",
     "shell.execute_reply": "2023-01-24T21:21:29.158036Z"
    },
    "papermill": {
     "duration": 1.631682,
     "end_time": "2023-01-24T21:21:29.161602",
     "exception": false,
     "start_time": "2023-01-24T21:21:27.529920",
     "status": "completed"
    },
    "tags": []
   },
   "outputs": [
    {
     "name": "stdout",
     "output_type": "stream",
     "text": [
      "Training accuracy  0.833\n",
      "Testing accuracy  0.756\n"
     ]
    }
   ],
   "source": [
    "modelknn= KNeighborsClassifier().fit(X_train,y_train)\n",
    "pred_trainknn = modelknn.predict(X_train)\n",
    "pred_testknn=modelknn.predict(X_test)\n",
    "acc_trainknn = accuracy_score(pred_trainknn, y_train)\n",
    "acc_testknn = accuracy_score(pred_testknn, y_test)\n",
    "print(f'Training accuracy {acc_trainknn: .3f}') \n",
    "print(f'Testing accuracy {acc_testknn: .3f}')"
   ]
  },
  {
   "cell_type": "code",
   "execution_count": 35,
   "id": "d13d09a2",
   "metadata": {
    "execution": {
     "iopub.execute_input": "2023-01-24T21:21:29.203308Z",
     "iopub.status.busy": "2023-01-24T21:21:29.202921Z",
     "iopub.status.idle": "2023-01-24T21:21:31.610422Z",
     "shell.execute_reply": "2023-01-24T21:21:31.609127Z"
    },
    "papermill": {
     "duration": 2.431715,
     "end_time": "2023-01-24T21:21:31.613505",
     "exception": false,
     "start_time": "2023-01-24T21:21:29.181790",
     "status": "completed"
    },
    "tags": []
   },
   "outputs": [
    {
     "name": "stdout",
     "output_type": "stream",
     "text": [
      "Fitting 5 folds for each of 6 candidates, totalling 30 fits\n",
      "\n",
      "Best parameters found:\n",
      "{'algorithm': 'brute', 'metric': 'euclidean', 'n_neighbors': 20}\n",
      "\n",
      "Grid scores:\n",
      "0.762 (+/-0.019) for {'algorithm': 'brute', 'metric': 'euclidean', 'n_neighbors': 5}\n",
      "0.769 (+/-0.013) for {'algorithm': 'brute', 'metric': 'euclidean', 'n_neighbors': 10}\n",
      "0.771 (+/-0.012) for {'algorithm': 'brute', 'metric': 'euclidean', 'n_neighbors': 20}\n",
      "0.762 (+/-0.019) for {'algorithm': 'brute', 'metric': 'minkowski', 'n_neighbors': 5}\n",
      "0.769 (+/-0.013) for {'algorithm': 'brute', 'metric': 'minkowski', 'n_neighbors': 10}\n",
      "0.771 (+/-0.012) for {'algorithm': 'brute', 'metric': 'minkowski', 'n_neighbors': 20}\n"
     ]
    }
   ],
   "source": [
    "tuned_parameters = [{'algorithm':['brute'],\n",
    "                     'metric': ['euclidean', 'minkowski'],\n",
    "                    'n_neighbors': [5, 10, 20]}] # hyperparameters to tune\n",
    "\n",
    "clfknn = GridSearchCV(KNeighborsClassifier(), tuned_parameters, \n",
    "                   verbose=1, n_jobs=-1) # grid search model\n",
    "clfknn.fit(X_train, y_train) # evaluate hyper-parameters\n",
    "\n",
    "print(\"\\nBest parameters found:\")\n",
    "print(clfknn.best_params_) # best hyperparameter balues\n",
    "\n",
    "print(\"\\nGrid scores:\")\n",
    "meansknn = clfknn.cv_results_['mean_test_score'] # mean accuracy with folds\n",
    "stdsknn = clfknn.cv_results_['std_test_score'] # standard deviation of accuracies\n",
    "# for each hyperparameter combination show mean +/- 2 standard-deviations \n",
    "for mean, std, params in zip(meansknn, stdsknn, clfknn.cv_results_['params']):\n",
    "    print(\"%0.3f (+/-%0.03f) for %r\" %(mean, std * 2, params)) "
   ]
  },
  {
   "cell_type": "markdown",
   "id": "419a5fa5",
   "metadata": {
    "papermill": {
     "duration": 0.019551,
     "end_time": "2023-01-24T21:21:31.654008",
     "exception": false,
     "start_time": "2023-01-24T21:21:31.634457",
     "status": "completed"
    },
    "tags": []
   },
   "source": [
    "### Model Results on Best Parameters (KNN)"
   ]
  },
  {
   "cell_type": "code",
   "execution_count": 36,
   "id": "873643f4",
   "metadata": {
    "execution": {
     "iopub.execute_input": "2023-01-24T21:21:31.695780Z",
     "iopub.status.busy": "2023-01-24T21:21:31.694807Z",
     "iopub.status.idle": "2023-01-24T21:21:32.490699Z",
     "shell.execute_reply": "2023-01-24T21:21:32.489566Z"
    },
    "papermill": {
     "duration": 0.819357,
     "end_time": "2023-01-24T21:21:32.493053",
     "exception": false,
     "start_time": "2023-01-24T21:21:31.673696",
     "status": "completed"
    },
    "tags": []
   },
   "outputs": [
    {
     "name": "stdout",
     "output_type": "stream",
     "text": [
      "KNeighborsClassifier(algorithm='brute', metric='euclidean')\n",
      "Results on test data\n",
      "Test accuracy =  0.7557\n",
      "Test precision =  0.8422\n",
      "Test recall =  0.5306\n",
      "Classification report:\n",
      "              precision    recall  f1-score   support\n",
      "\n",
      "           0       0.72      0.93      0.81       869\n",
      "           1       0.84      0.53      0.65       654\n",
      "\n",
      "    accuracy                           0.76      1523\n",
      "   macro avg       0.78      0.73      0.73      1523\n",
      "weighted avg       0.77      0.76      0.74      1523\n",
      "\n",
      "Confusion matrix (Rows actual, Columns predicted):\n",
      "     0    1\n",
      "0  804   65\n",
      "1  307  347\n",
      "\n",
      "ROC curve\n"
     ]
    },
    {
     "name": "stderr",
     "output_type": "stream",
     "text": [
      "/opt/conda/lib/python3.7/site-packages/sklearn/utils/deprecation.py:87: FutureWarning: Function plot_roc_curve is deprecated; Function :func:`plot_roc_curve` is deprecated in 1.0 and will be removed in 1.2. Use one of the class methods: :meth:`sklearn.metric.RocCurveDisplay.from_predictions` or :meth:`sklearn.metric.RocCurveDisplay.from_estimator`.\n",
      "  warnings.warn(msg, category=FutureWarning)\n"
     ]
    },
    {
     "data": {
      "image/png": "[encoded data removed]",
      "text/plain": [
       "<Figure size 432x288 with 1 Axes>"
      ]
     },
     "metadata": {
      "needs_background": "light"
     },
     "output_type": "display_data"
    }
   ],
   "source": [
    "# Specify non-default hyper-parameter values\n",
    "algorithm = 'brute'\n",
    "metric = 'euclidean'\n",
    "n_neighbors =  5\n",
    "# Train and test model\n",
    "good_modelknn = KNeighborsClassifier(algorithm=algorithm, metric=metric, \n",
    "                                  n_neighbors=n_neighbors) # create model \n",
    "print(good_modelknn) # display model parameters\n",
    "good_modelknn.fit(X_train, y_train) # train model\n",
    "predknn = good_modelknn.predict(X_test) # predicted output for test examples\n",
    "print(\"Results on test data\")\n",
    "accknn = accuracy_score(y_test, predknn) # accuracy on test examples\n",
    "precknn = precision_score(y_test, predknn) # precision on test examples\n",
    "recaknn = recall_score(y_test, predknn) # recall on test examples\n",
    "print(f'Test accuracy = {accknn: .4f}') # round to 4 decimal places\n",
    "print(f'Test precision = {precknn: .4f}') # round to 4 decimal places\n",
    "print(f'Test recall = {recaknn: .4f}') # round to 4 decimal places\n",
    "print(\"Classification report:\")\n",
    "print(classification_report(y_test, predknn))\n",
    "print(\"Confusion matrix (Rows actual, Columns predicted):\")\n",
    "print(pd.DataFrame(confusion_matrix(y_test, predknn)))\n",
    "print('\\nROC curve')\n",
    "plot_roc_curve(good_modelknn, X_test, y_test)  # \n",
    "plt.show()"
   ]
  },
  {
   "cell_type": "markdown",
   "id": "db4ef19b",
   "metadata": {
    "papermill": {
     "duration": 0.02029,
     "end_time": "2023-01-24T21:21:32.533983",
     "exception": false,
     "start_time": "2023-01-24T21:21:32.513693",
     "status": "completed"
    },
    "tags": []
   },
   "source": [
    "### SVM "
   ]
  },
  {
   "cell_type": "code",
   "execution_count": 37,
   "id": "c50befb4",
   "metadata": {
    "execution": {
     "iopub.execute_input": "2023-01-24T21:21:32.584875Z",
     "iopub.status.busy": "2023-01-24T21:21:32.584101Z",
     "iopub.status.idle": "2023-01-24T21:21:40.509994Z",
     "shell.execute_reply": "2023-01-24T21:21:40.508597Z"
    },
    "papermill": {
     "duration": 7.955293,
     "end_time": "2023-01-24T21:21:40.512372",
     "exception": false,
     "start_time": "2023-01-24T21:21:32.557079",
     "status": "completed"
    },
    "tags": []
   },
   "outputs": [
    {
     "name": "stdout",
     "output_type": "stream",
     "text": [
      "Training accuracy  0.969\n",
      "Testing accuracy  0.798\n"
     ]
    }
   ],
   "source": [
    "modelsvm=svm.SVC().fit(X_train,y_train)\n",
    "pred_trainsvm = modelsvm.predict(X_train)\n",
    "pred_testsvm=modelsvm.predict(X_test)\n",
    "acc_trainsvm = accuracy_score(pred_trainsvm, y_train)\n",
    "acc_testsvm = accuracy_score(pred_testsvm, y_test)\n",
    "print(f'Training accuracy {acc_trainsvm: .3f}') \n",
    "print(f'Testing accuracy {acc_testsvm: .3f}')"
   ]
  },
  {
   "cell_type": "code",
   "execution_count": 38,
   "id": "94c35522",
   "metadata": {
    "execution": {
     "iopub.execute_input": "2023-01-24T21:21:40.556903Z",
     "iopub.status.busy": "2023-01-24T21:21:40.556480Z",
     "iopub.status.idle": "2023-01-24T21:22:16.502648Z",
     "shell.execute_reply": "2023-01-24T21:22:16.501510Z"
    },
    "papermill": {
     "duration": 35.991197,
     "end_time": "2023-01-24T21:22:16.525622",
     "exception": false,
     "start_time": "2023-01-24T21:21:40.534425",
     "status": "completed"
    },
    "tags": []
   },
   "outputs": [
    {
     "name": "stdout",
     "output_type": "stream",
     "text": [
      "Fitting 5 folds for each of 6 candidates, totalling 30 fits\n",
      "\n",
      "Best parameters found:\n",
      "{'C': 3, 'gamma': 0.1, 'kernel': 'rbf'}\n",
      "\n",
      "Grid scores:\n",
      "0.735 (+/-0.014) for {'C': 1, 'gamma': 0.1, 'kernel': 'rbf'}\n",
      "0.793 (+/-0.010) for {'C': 1, 'gamma': 1, 'kernel': 'rbf'}\n",
      "0.789 (+/-0.011) for {'C': 2, 'gamma': 0.1, 'kernel': 'rbf'}\n",
      "0.794 (+/-0.011) for {'C': 2, 'gamma': 1, 'kernel': 'rbf'}\n",
      "0.796 (+/-0.006) for {'C': 3, 'gamma': 0.1, 'kernel': 'rbf'}\n",
      "0.793 (+/-0.017) for {'C': 3, 'gamma': 1, 'kernel': 'rbf'}\n"
     ]
    }
   ],
   "source": [
    "tuned_parameters = [{'kernel':['rbf'], 'gamma':[0.1,1], 'C':[1,2,3]}]\n",
    "                     # hyperparameters to tune\n",
    "\n",
    "clfsvm = GridSearchCV(svm.SVC(), tuned_parameters, \n",
    "                   verbose=1, n_jobs=-1) # grid search model\n",
    "clfsvm.fit(X_train,y_train) # evaluate hyper-parameters\n",
    "\n",
    "print(\"\\nBest parameters found:\")\n",
    "print(clfsvm.best_params_) # best hyperparameter balues\n",
    "\n",
    "print(\"\\nGrid scores:\")\n",
    "meansvm = clfsvm.cv_results_['mean_test_score'] # mean accuracy with folds\n",
    "stdsvm = clfsvm.cv_results_['std_test_score'] # standard deviation of accuracies\n",
    "# for each hyperparameter combination show mean +/- 2 standard-deviations \n",
    "for mean, std, params in zip(meansvm, stdsvm, clfsvm.cv_results_['params']):\n",
    "    print(\"%0.3f (+/-%0.03f) for %r\" %(mean, std * 2, params)) "
   ]
  },
  {
   "cell_type": "markdown",
   "id": "8f178711",
   "metadata": {
    "papermill": {
     "duration": 0.02318,
     "end_time": "2023-01-24T21:22:16.574562",
     "exception": false,
     "start_time": "2023-01-24T21:22:16.551382",
     "status": "completed"
    },
    "tags": []
   },
   "source": [
    "### Model Results on Best Parameters (SVM)"
   ]
  },
  {
   "cell_type": "code",
   "execution_count": 39,
   "id": "7a64b158",
   "metadata": {
    "execution": {
     "iopub.execute_input": "2023-01-24T21:22:16.623470Z",
     "iopub.status.busy": "2023-01-24T21:22:16.623059Z",
     "iopub.status.idle": "2023-01-24T21:22:22.281489Z",
     "shell.execute_reply": "2023-01-24T21:22:22.280278Z"
    },
    "papermill": {
     "duration": 5.683717,
     "end_time": "2023-01-24T21:22:22.284216",
     "exception": false,
     "start_time": "2023-01-24T21:22:16.600499",
     "status": "completed"
    },
    "tags": []
   },
   "outputs": [
    {
     "name": "stdout",
     "output_type": "stream",
     "text": [
      "SVC(C=1, gamma=1)\n",
      "Results on test data\n",
      "Test accuracy =  0.7984\n",
      "Test precision =  0.8463\n",
      "Test recall =  0.6483\n",
      "Classification report:\n",
      "              precision    recall  f1-score   support\n",
      "\n",
      "           0       0.77      0.91      0.84       869\n",
      "           1       0.85      0.65      0.73       654\n",
      "\n",
      "    accuracy                           0.80      1523\n",
      "   macro avg       0.81      0.78      0.79      1523\n",
      "weighted avg       0.81      0.80      0.79      1523\n",
      "\n",
      "Confusion matrix (Rows actual, Columns predicted):\n",
      "     0    1\n",
      "0  792   77\n",
      "1  230  424\n",
      "\n",
      "ROC curve\n"
     ]
    },
    {
     "name": "stderr",
     "output_type": "stream",
     "text": [
      "/opt/conda/lib/python3.7/site-packages/sklearn/utils/deprecation.py:87: FutureWarning: Function plot_roc_curve is deprecated; Function :func:`plot_roc_curve` is deprecated in 1.0 and will be removed in 1.2. Use one of the class methods: :meth:`sklearn.metric.RocCurveDisplay.from_predictions` or :meth:`sklearn.metric.RocCurveDisplay.from_estimator`.\n",
      "  warnings.warn(msg, category=FutureWarning)\n"
     ]
    },
    {
     "data": {
      "image/png": "[encoded data removed]",
      "text/plain": [
       "<Figure size 432x288 with 1 Axes>"
      ]
     },
     "metadata": {
      "needs_background": "light"
     },
     "output_type": "display_data"
    }
   ],
   "source": [
    "# Specify non-default hyper-parameter values\n",
    "C = 1 # algorithm name\n",
    "kernel = 'rbf'# kernel type\n",
    "gamma =  1 # kernel parameter\n",
    "# Train and test model\n",
    "good_modelsvm = svm.SVC(C=C, kernel=kernel, \n",
    "                                  gamma=gamma) # create model \n",
    "print(good_modelsvm) # display model parameters\n",
    "good_modelsvm.fit(X_train,y_train) # train model\n",
    "predsvm = good_modelsvm.predict(X_test) # predicted output for test examples\n",
    "print(\"Results on test data\")\n",
    "accsvm = accuracy_score(y_test, predsvm) # accuracy on test examples\n",
    "precsvm = precision_score(y_test, predsvm) # precision on test examples\n",
    "recasvm = recall_score(y_test, predsvm) # recall on test examples\n",
    "print(f'Test accuracy = {accsvm: .4f}') # round to 4 decimal places\n",
    "print(f'Test precision = {precsvm: .4f}') # round to 4 decimal places\n",
    "print(f'Test recall = {recasvm: .4f}') # round to 4 decimal places\n",
    "print(\"Classification report:\")\n",
    "print(classification_report(y_test, predsvm))\n",
    "print(\"Confusion matrix (Rows actual, Columns predicted):\")\n",
    "print(pd.DataFrame(confusion_matrix(y_test, predsvm)))\n",
    "print('\\nROC curve')\n",
    "plot_roc_curve(good_modelsvm, X_test, y_test)  # \n",
    "plt.show()"
   ]
  },
  {
   "cell_type": "markdown",
   "id": "62c7e038",
   "metadata": {
    "papermill": {
     "duration": 0.021319,
     "end_time": "2023-01-24T21:22:22.327552",
     "exception": false,
     "start_time": "2023-01-24T21:22:22.306233",
     "status": "completed"
    },
    "tags": []
   },
   "source": [
    "### XG BOOST"
   ]
  },
  {
   "cell_type": "code",
   "execution_count": 40,
   "id": "c33ac96e",
   "metadata": {
    "execution": {
     "iopub.execute_input": "2023-01-24T21:22:22.379284Z",
     "iopub.status.busy": "2023-01-24T21:22:22.378276Z",
     "iopub.status.idle": "2023-01-24T21:29:04.263512Z",
     "shell.execute_reply": "2023-01-24T21:29:04.261811Z"
    },
    "papermill": {
     "duration": 401.94817,
     "end_time": "2023-01-24T21:29:04.297469",
     "exception": false,
     "start_time": "2023-01-24T21:22:22.349299",
     "status": "completed"
    },
    "tags": []
   },
   "outputs": [
    {
     "name": "stdout",
     "output_type": "stream",
     "text": [
      "Fitting 5 folds for each of 64 candidates, totalling 320 fits\n",
      "\n",
      "Best parameters found:\n",
      "{'alpha': 0.2, 'booster': 'gbtree', 'colsample_bylevel': 0.9, 'colsample_bynode': 0.8, 'colsample_bytree': 0.6, 'eta': 0.2, 'lambda': 0.3, 'max_depth': 5, 'n_estimators': 250, 'objective': 'binary:logistic', 'subsample': 0.7}\n",
      "\n",
      "Grid scores:\n",
      "0.767 (+/-0.016) for {'alpha': 0.2, 'booster': 'gbtree', 'colsample_bylevel': 0.9, 'colsample_bynode': 0.8, 'colsample_bytree': 0.6, 'eta': 0.1, 'lambda': 0.3, 'max_depth': 5, 'n_estimators': 200, 'objective': 'binary:logistic', 'subsample': 0.7}\n",
      "0.767 (+/-0.014) for {'alpha': 0.2, 'booster': 'gbtree', 'colsample_bylevel': 0.9, 'colsample_bynode': 0.8, 'colsample_bytree': 0.6, 'eta': 0.1, 'lambda': 0.3, 'max_depth': 5, 'n_estimators': 200, 'objective': 'binary:logistic', 'subsample': 0.6}\n",
      "0.771 (+/-0.015) for {'alpha': 0.2, 'booster': 'gbtree', 'colsample_bylevel': 0.9, 'colsample_bynode': 0.8, 'colsample_bytree': 0.6, 'eta': 0.1, 'lambda': 0.3, 'max_depth': 5, 'n_estimators': 250, 'objective': 'binary:logistic', 'subsample': 0.7}\n",
      "0.769 (+/-0.017) for {'alpha': 0.2, 'booster': 'gbtree', 'colsample_bylevel': 0.9, 'colsample_bynode': 0.8, 'colsample_bytree': 0.6, 'eta': 0.1, 'lambda': 0.3, 'max_depth': 5, 'n_estimators': 250, 'objective': 'binary:logistic', 'subsample': 0.6}\n",
      "0.767 (+/-0.012) for {'alpha': 0.2, 'booster': 'gbtree', 'colsample_bylevel': 0.9, 'colsample_bynode': 0.8, 'colsample_bytree': 0.6, 'eta': 0.1, 'lambda': 0.4, 'max_depth': 5, 'n_estimators': 200, 'objective': 'binary:logistic', 'subsample': 0.7}\n",
      "0.764 (+/-0.013) for {'alpha': 0.2, 'booster': 'gbtree', 'colsample_bylevel': 0.9, 'colsample_bynode': 0.8, 'colsample_bytree': 0.6, 'eta': 0.1, 'lambda': 0.4, 'max_depth': 5, 'n_estimators': 200, 'objective': 'binary:logistic', 'subsample': 0.6}\n",
      "0.772 (+/-0.010) for {'alpha': 0.2, 'booster': 'gbtree', 'colsample_bylevel': 0.9, 'colsample_bynode': 0.8, 'colsample_bytree': 0.6, 'eta': 0.1, 'lambda': 0.4, 'max_depth': 5, 'n_estimators': 250, 'objective': 'binary:logistic', 'subsample': 0.7}\n",
      "0.767 (+/-0.017) for {'alpha': 0.2, 'booster': 'gbtree', 'colsample_bylevel': 0.9, 'colsample_bynode': 0.8, 'colsample_bytree': 0.6, 'eta': 0.1, 'lambda': 0.4, 'max_depth': 5, 'n_estimators': 250, 'objective': 'binary:logistic', 'subsample': 0.6}\n",
      "0.775 (+/-0.019) for {'alpha': 0.2, 'booster': 'gbtree', 'colsample_bylevel': 0.9, 'colsample_bynode': 0.8, 'colsample_bytree': 0.6, 'eta': 0.2, 'lambda': 0.3, 'max_depth': 5, 'n_estimators': 200, 'objective': 'binary:logistic', 'subsample': 0.7}\n",
      "0.776 (+/-0.010) for {'alpha': 0.2, 'booster': 'gbtree', 'colsample_bylevel': 0.9, 'colsample_bynode': 0.8, 'colsample_bytree': 0.6, 'eta': 0.2, 'lambda': 0.3, 'max_depth': 5, 'n_estimators': 200, 'objective': 'binary:logistic', 'subsample': 0.6}\n",
      "0.779 (+/-0.013) for {'alpha': 0.2, 'booster': 'gbtree', 'colsample_bylevel': 0.9, 'colsample_bynode': 0.8, 'colsample_bytree': 0.6, 'eta': 0.2, 'lambda': 0.3, 'max_depth': 5, 'n_estimators': 250, 'objective': 'binary:logistic', 'subsample': 0.7}\n",
      "0.775 (+/-0.014) for {'alpha': 0.2, 'booster': 'gbtree', 'colsample_bylevel': 0.9, 'colsample_bynode': 0.8, 'colsample_bytree': 0.6, 'eta': 0.2, 'lambda': 0.3, 'max_depth': 5, 'n_estimators': 250, 'objective': 'binary:logistic', 'subsample': 0.6}\n",
      "0.775 (+/-0.016) for {'alpha': 0.2, 'booster': 'gbtree', 'colsample_bylevel': 0.9, 'colsample_bynode': 0.8, 'colsample_bytree': 0.6, 'eta': 0.2, 'lambda': 0.4, 'max_depth': 5, 'n_estimators': 200, 'objective': 'binary:logistic', 'subsample': 0.7}\n",
      "0.775 (+/-0.017) for {'alpha': 0.2, 'booster': 'gbtree', 'colsample_bylevel': 0.9, 'colsample_bynode': 0.8, 'colsample_bytree': 0.6, 'eta': 0.2, 'lambda': 0.4, 'max_depth': 5, 'n_estimators': 200, 'objective': 'binary:logistic', 'subsample': 0.6}\n",
      "0.775 (+/-0.016) for {'alpha': 0.2, 'booster': 'gbtree', 'colsample_bylevel': 0.9, 'colsample_bynode': 0.8, 'colsample_bytree': 0.6, 'eta': 0.2, 'lambda': 0.4, 'max_depth': 5, 'n_estimators': 250, 'objective': 'binary:logistic', 'subsample': 0.7}\n",
      "0.776 (+/-0.016) for {'alpha': 0.2, 'booster': 'gbtree', 'colsample_bylevel': 0.9, 'colsample_bynode': 0.8, 'colsample_bytree': 0.6, 'eta': 0.2, 'lambda': 0.4, 'max_depth': 5, 'n_estimators': 250, 'objective': 'binary:logistic', 'subsample': 0.6}\n",
      "0.765 (+/-0.019) for {'alpha': 0.2, 'booster': 'gbtree', 'colsample_bylevel': 0.9, 'colsample_bynode': 0.8, 'colsample_bytree': 0.5, 'eta': 0.1, 'lambda': 0.3, 'max_depth': 5, 'n_estimators': 200, 'objective': 'binary:logistic', 'subsample': 0.7}\n",
      "0.765 (+/-0.013) for {'alpha': 0.2, 'booster': 'gbtree', 'colsample_bylevel': 0.9, 'colsample_bynode': 0.8, 'colsample_bytree': 0.5, 'eta': 0.1, 'lambda': 0.3, 'max_depth': 5, 'n_estimators': 200, 'objective': 'binary:logistic', 'subsample': 0.6}\n",
      "0.769 (+/-0.016) for {'alpha': 0.2, 'booster': 'gbtree', 'colsample_bylevel': 0.9, 'colsample_bynode': 0.8, 'colsample_bytree': 0.5, 'eta': 0.1, 'lambda': 0.3, 'max_depth': 5, 'n_estimators': 250, 'objective': 'binary:logistic', 'subsample': 0.7}\n",
      "0.769 (+/-0.015) for {'alpha': 0.2, 'booster': 'gbtree', 'colsample_bylevel': 0.9, 'colsample_bynode': 0.8, 'colsample_bytree': 0.5, 'eta': 0.1, 'lambda': 0.3, 'max_depth': 5, 'n_estimators': 250, 'objective': 'binary:logistic', 'subsample': 0.6}\n",
      "0.765 (+/-0.017) for {'alpha': 0.2, 'booster': 'gbtree', 'colsample_bylevel': 0.9, 'colsample_bynode': 0.8, 'colsample_bytree': 0.5, 'eta': 0.1, 'lambda': 0.4, 'max_depth': 5, 'n_estimators': 200, 'objective': 'binary:logistic', 'subsample': 0.7}\n",
      "0.766 (+/-0.015) for {'alpha': 0.2, 'booster': 'gbtree', 'colsample_bylevel': 0.9, 'colsample_bynode': 0.8, 'colsample_bytree': 0.5, 'eta': 0.1, 'lambda': 0.4, 'max_depth': 5, 'n_estimators': 200, 'objective': 'binary:logistic', 'subsample': 0.6}\n",
      "0.770 (+/-0.014) for {'alpha': 0.2, 'booster': 'gbtree', 'colsample_bylevel': 0.9, 'colsample_bynode': 0.8, 'colsample_bytree': 0.5, 'eta': 0.1, 'lambda': 0.4, 'max_depth': 5, 'n_estimators': 250, 'objective': 'binary:logistic', 'subsample': 0.7}\n",
      "0.770 (+/-0.016) for {'alpha': 0.2, 'booster': 'gbtree', 'colsample_bylevel': 0.9, 'colsample_bynode': 0.8, 'colsample_bytree': 0.5, 'eta': 0.1, 'lambda': 0.4, 'max_depth': 5, 'n_estimators': 250, 'objective': 'binary:logistic', 'subsample': 0.6}\n",
      "0.773 (+/-0.022) for {'alpha': 0.2, 'booster': 'gbtree', 'colsample_bylevel': 0.9, 'colsample_bynode': 0.8, 'colsample_bytree': 0.5, 'eta': 0.2, 'lambda': 0.3, 'max_depth': 5, 'n_estimators': 200, 'objective': 'binary:logistic', 'subsample': 0.7}\n",
      "0.773 (+/-0.012) for {'alpha': 0.2, 'booster': 'gbtree', 'colsample_bylevel': 0.9, 'colsample_bynode': 0.8, 'colsample_bytree': 0.5, 'eta': 0.2, 'lambda': 0.3, 'max_depth': 5, 'n_estimators': 200, 'objective': 'binary:logistic', 'subsample': 0.6}\n",
      "0.776 (+/-0.017) for {'alpha': 0.2, 'booster': 'gbtree', 'colsample_bylevel': 0.9, 'colsample_bynode': 0.8, 'colsample_bytree': 0.5, 'eta': 0.2, 'lambda': 0.3, 'max_depth': 5, 'n_estimators': 250, 'objective': 'binary:logistic', 'subsample': 0.7}\n",
      "0.774 (+/-0.012) for {'alpha': 0.2, 'booster': 'gbtree', 'colsample_bylevel': 0.9, 'colsample_bynode': 0.8, 'colsample_bytree': 0.5, 'eta': 0.2, 'lambda': 0.3, 'max_depth': 5, 'n_estimators': 250, 'objective': 'binary:logistic', 'subsample': 0.6}\n",
      "0.773 (+/-0.018) for {'alpha': 0.2, 'booster': 'gbtree', 'colsample_bylevel': 0.9, 'colsample_bynode': 0.8, 'colsample_bytree': 0.5, 'eta': 0.2, 'lambda': 0.4, 'max_depth': 5, 'n_estimators': 200, 'objective': 'binary:logistic', 'subsample': 0.7}\n",
      "0.772 (+/-0.017) for {'alpha': 0.2, 'booster': 'gbtree', 'colsample_bylevel': 0.9, 'colsample_bynode': 0.8, 'colsample_bytree': 0.5, 'eta': 0.2, 'lambda': 0.4, 'max_depth': 5, 'n_estimators': 200, 'objective': 'binary:logistic', 'subsample': 0.6}\n",
      "0.777 (+/-0.020) for {'alpha': 0.2, 'booster': 'gbtree', 'colsample_bylevel': 0.9, 'colsample_bynode': 0.8, 'colsample_bytree': 0.5, 'eta': 0.2, 'lambda': 0.4, 'max_depth': 5, 'n_estimators': 250, 'objective': 'binary:logistic', 'subsample': 0.7}\n",
      "0.775 (+/-0.011) for {'alpha': 0.2, 'booster': 'gbtree', 'colsample_bylevel': 0.9, 'colsample_bynode': 0.8, 'colsample_bytree': 0.5, 'eta': 0.2, 'lambda': 0.4, 'max_depth': 5, 'n_estimators': 250, 'objective': 'binary:logistic', 'subsample': 0.6}\n",
      "0.766 (+/-0.020) for {'alpha': 0.2, 'booster': 'gbtree', 'colsample_bylevel': 1, 'colsample_bynode': 0.8, 'colsample_bytree': 0.6, 'eta': 0.1, 'lambda': 0.3, 'max_depth': 5, 'n_estimators': 200, 'objective': 'binary:logistic', 'subsample': 0.7}\n",
      "0.767 (+/-0.020) for {'alpha': 0.2, 'booster': 'gbtree', 'colsample_bylevel': 1, 'colsample_bynode': 0.8, 'colsample_bytree': 0.6, 'eta': 0.1, 'lambda': 0.3, 'max_depth': 5, 'n_estimators': 200, 'objective': 'binary:logistic', 'subsample': 0.6}\n",
      "0.770 (+/-0.014) for {'alpha': 0.2, 'booster': 'gbtree', 'colsample_bylevel': 1, 'colsample_bynode': 0.8, 'colsample_bytree': 0.6, 'eta': 0.1, 'lambda': 0.3, 'max_depth': 5, 'n_estimators': 250, 'objective': 'binary:logistic', 'subsample': 0.7}\n",
      "0.768 (+/-0.021) for {'alpha': 0.2, 'booster': 'gbtree', 'colsample_bylevel': 1, 'colsample_bynode': 0.8, 'colsample_bytree': 0.6, 'eta': 0.1, 'lambda': 0.3, 'max_depth': 5, 'n_estimators': 250, 'objective': 'binary:logistic', 'subsample': 0.6}\n",
      "0.768 (+/-0.020) for {'alpha': 0.2, 'booster': 'gbtree', 'colsample_bylevel': 1, 'colsample_bynode': 0.8, 'colsample_bytree': 0.6, 'eta': 0.1, 'lambda': 0.4, 'max_depth': 5, 'n_estimators': 200, 'objective': 'binary:logistic', 'subsample': 0.7}\n",
      "0.764 (+/-0.018) for {'alpha': 0.2, 'booster': 'gbtree', 'colsample_bylevel': 1, 'colsample_bynode': 0.8, 'colsample_bytree': 0.6, 'eta': 0.1, 'lambda': 0.4, 'max_depth': 5, 'n_estimators': 200, 'objective': 'binary:logistic', 'subsample': 0.6}\n",
      "0.770 (+/-0.017) for {'alpha': 0.2, 'booster': 'gbtree', 'colsample_bylevel': 1, 'colsample_bynode': 0.8, 'colsample_bytree': 0.6, 'eta': 0.1, 'lambda': 0.4, 'max_depth': 5, 'n_estimators': 250, 'objective': 'binary:logistic', 'subsample': 0.7}\n",
      "0.768 (+/-0.016) for {'alpha': 0.2, 'booster': 'gbtree', 'colsample_bylevel': 1, 'colsample_bynode': 0.8, 'colsample_bytree': 0.6, 'eta': 0.1, 'lambda': 0.4, 'max_depth': 5, 'n_estimators': 250, 'objective': 'binary:logistic', 'subsample': 0.6}\n",
      "0.773 (+/-0.016) for {'alpha': 0.2, 'booster': 'gbtree', 'colsample_bylevel': 1, 'colsample_bynode': 0.8, 'colsample_bytree': 0.6, 'eta': 0.2, 'lambda': 0.3, 'max_depth': 5, 'n_estimators': 200, 'objective': 'binary:logistic', 'subsample': 0.7}\n",
      "0.773 (+/-0.005) for {'alpha': 0.2, 'booster': 'gbtree', 'colsample_bylevel': 1, 'colsample_bynode': 0.8, 'colsample_bytree': 0.6, 'eta': 0.2, 'lambda': 0.3, 'max_depth': 5, 'n_estimators': 200, 'objective': 'binary:logistic', 'subsample': 0.6}\n",
      "0.777 (+/-0.010) for {'alpha': 0.2, 'booster': 'gbtree', 'colsample_bylevel': 1, 'colsample_bynode': 0.8, 'colsample_bytree': 0.6, 'eta': 0.2, 'lambda': 0.3, 'max_depth': 5, 'n_estimators': 250, 'objective': 'binary:logistic', 'subsample': 0.7}\n",
      "0.775 (+/-0.004) for {'alpha': 0.2, 'booster': 'gbtree', 'colsample_bylevel': 1, 'colsample_bynode': 0.8, 'colsample_bytree': 0.6, 'eta': 0.2, 'lambda': 0.3, 'max_depth': 5, 'n_estimators': 250, 'objective': 'binary:logistic', 'subsample': 0.6}\n",
      "0.774 (+/-0.013) for {'alpha': 0.2, 'booster': 'gbtree', 'colsample_bylevel': 1, 'colsample_bynode': 0.8, 'colsample_bytree': 0.6, 'eta': 0.2, 'lambda': 0.4, 'max_depth': 5, 'n_estimators': 200, 'objective': 'binary:logistic', 'subsample': 0.7}\n",
      "0.773 (+/-0.010) for {'alpha': 0.2, 'booster': 'gbtree', 'colsample_bylevel': 1, 'colsample_bynode': 0.8, 'colsample_bytree': 0.6, 'eta': 0.2, 'lambda': 0.4, 'max_depth': 5, 'n_estimators': 200, 'objective': 'binary:logistic', 'subsample': 0.6}\n",
      "0.779 (+/-0.010) for {'alpha': 0.2, 'booster': 'gbtree', 'colsample_bylevel': 1, 'colsample_bynode': 0.8, 'colsample_bytree': 0.6, 'eta': 0.2, 'lambda': 0.4, 'max_depth': 5, 'n_estimators': 250, 'objective': 'binary:logistic', 'subsample': 0.7}\n",
      "0.775 (+/-0.013) for {'alpha': 0.2, 'booster': 'gbtree', 'colsample_bylevel': 1, 'colsample_bynode': 0.8, 'colsample_bytree': 0.6, 'eta': 0.2, 'lambda': 0.4, 'max_depth': 5, 'n_estimators': 250, 'objective': 'binary:logistic', 'subsample': 0.6}\n",
      "0.762 (+/-0.017) for {'alpha': 0.2, 'booster': 'gbtree', 'colsample_bylevel': 1, 'colsample_bynode': 0.8, 'colsample_bytree': 0.5, 'eta': 0.1, 'lambda': 0.3, 'max_depth': 5, 'n_estimators': 200, 'objective': 'binary:logistic', 'subsample': 0.7}\n",
      "0.764 (+/-0.016) for {'alpha': 0.2, 'booster': 'gbtree', 'colsample_bylevel': 1, 'colsample_bynode': 0.8, 'colsample_bytree': 0.5, 'eta': 0.1, 'lambda': 0.3, 'max_depth': 5, 'n_estimators': 200, 'objective': 'binary:logistic', 'subsample': 0.6}\n",
      "0.769 (+/-0.019) for {'alpha': 0.2, 'booster': 'gbtree', 'colsample_bylevel': 1, 'colsample_bynode': 0.8, 'colsample_bytree': 0.5, 'eta': 0.1, 'lambda': 0.3, 'max_depth': 5, 'n_estimators': 250, 'objective': 'binary:logistic', 'subsample': 0.7}\n",
      "0.772 (+/-0.014) for {'alpha': 0.2, 'booster': 'gbtree', 'colsample_bylevel': 1, 'colsample_bynode': 0.8, 'colsample_bytree': 0.5, 'eta': 0.1, 'lambda': 0.3, 'max_depth': 5, 'n_estimators': 250, 'objective': 'binary:logistic', 'subsample': 0.6}\n",
      "0.764 (+/-0.016) for {'alpha': 0.2, 'booster': 'gbtree', 'colsample_bylevel': 1, 'colsample_bynode': 0.8, 'colsample_bytree': 0.5, 'eta': 0.1, 'lambda': 0.4, 'max_depth': 5, 'n_estimators': 200, 'objective': 'binary:logistic', 'subsample': 0.7}\n",
      "0.765 (+/-0.015) for {'alpha': 0.2, 'booster': 'gbtree', 'colsample_bylevel': 1, 'colsample_bynode': 0.8, 'colsample_bytree': 0.5, 'eta': 0.1, 'lambda': 0.4, 'max_depth': 5, 'n_estimators': 200, 'objective': 'binary:logistic', 'subsample': 0.6}\n",
      "0.768 (+/-0.016) for {'alpha': 0.2, 'booster': 'gbtree', 'colsample_bylevel': 1, 'colsample_bynode': 0.8, 'colsample_bytree': 0.5, 'eta': 0.1, 'lambda': 0.4, 'max_depth': 5, 'n_estimators': 250, 'objective': 'binary:logistic', 'subsample': 0.7}\n",
      "0.769 (+/-0.012) for {'alpha': 0.2, 'booster': 'gbtree', 'colsample_bylevel': 1, 'colsample_bynode': 0.8, 'colsample_bytree': 0.5, 'eta': 0.1, 'lambda': 0.4, 'max_depth': 5, 'n_estimators': 250, 'objective': 'binary:logistic', 'subsample': 0.6}\n",
      "0.775 (+/-0.022) for {'alpha': 0.2, 'booster': 'gbtree', 'colsample_bylevel': 1, 'colsample_bynode': 0.8, 'colsample_bytree': 0.5, 'eta': 0.2, 'lambda': 0.3, 'max_depth': 5, 'n_estimators': 200, 'objective': 'binary:logistic', 'subsample': 0.7}\n",
      "0.774 (+/-0.011) for {'alpha': 0.2, 'booster': 'gbtree', 'colsample_bylevel': 1, 'colsample_bynode': 0.8, 'colsample_bytree': 0.5, 'eta': 0.2, 'lambda': 0.3, 'max_depth': 5, 'n_estimators': 200, 'objective': 'binary:logistic', 'subsample': 0.6}\n",
      "0.775 (+/-0.018) for {'alpha': 0.2, 'booster': 'gbtree', 'colsample_bylevel': 1, 'colsample_bynode': 0.8, 'colsample_bytree': 0.5, 'eta': 0.2, 'lambda': 0.3, 'max_depth': 5, 'n_estimators': 250, 'objective': 'binary:logistic', 'subsample': 0.7}\n",
      "0.778 (+/-0.013) for {'alpha': 0.2, 'booster': 'gbtree', 'colsample_bylevel': 1, 'colsample_bynode': 0.8, 'colsample_bytree': 0.5, 'eta': 0.2, 'lambda': 0.3, 'max_depth': 5, 'n_estimators': 250, 'objective': 'binary:logistic', 'subsample': 0.6}\n",
      "0.773 (+/-0.015) for {'alpha': 0.2, 'booster': 'gbtree', 'colsample_bylevel': 1, 'colsample_bynode': 0.8, 'colsample_bytree': 0.5, 'eta': 0.2, 'lambda': 0.4, 'max_depth': 5, 'n_estimators': 200, 'objective': 'binary:logistic', 'subsample': 0.7}\n",
      "0.773 (+/-0.019) for {'alpha': 0.2, 'booster': 'gbtree', 'colsample_bylevel': 1, 'colsample_bynode': 0.8, 'colsample_bytree': 0.5, 'eta': 0.2, 'lambda': 0.4, 'max_depth': 5, 'n_estimators': 200, 'objective': 'binary:logistic', 'subsample': 0.6}\n",
      "0.776 (+/-0.016) for {'alpha': 0.2, 'booster': 'gbtree', 'colsample_bylevel': 1, 'colsample_bynode': 0.8, 'colsample_bytree': 0.5, 'eta': 0.2, 'lambda': 0.4, 'max_depth': 5, 'n_estimators': 250, 'objective': 'binary:logistic', 'subsample': 0.7}\n",
      "0.773 (+/-0.014) for {'alpha': 0.2, 'booster': 'gbtree', 'colsample_bylevel': 1, 'colsample_bynode': 0.8, 'colsample_bytree': 0.5, 'eta': 0.2, 'lambda': 0.4, 'max_depth': 5, 'n_estimators': 250, 'objective': 'binary:logistic', 'subsample': 0.6}\n"
     ]
    }
   ],
   "source": [
    "tuned_parameters_xgb=[{'booster':['gbtree'], 'objective':['binary:logistic'], 'eta':[0.1,0.2], 'max_depth':[5], 'subsample':[0.7,0.6],\n",
    "                       'colsample_bytree':[0.6,0.5], 'colsample_bylevel':[0.9,1], 'colsample_bynode':[0.8], 'alpha':[0.2], 'lambda':[0.3,0.4],\n",
    "                       'n_estimators':[200,250]}]\n",
    "clfxgb = GridSearchCV(XGBClassifier(), tuned_parameters_xgb, verbose=1, n_jobs=-1) # grid search model\n",
    "clfxgb.fit(X_train, y_train) # evaluate hyper-parameters\n",
    "\n",
    "print(\"\\nBest parameters found:\")\n",
    "print(clfxgb.best_params_) # best hyperparameter balues\n",
    "\n",
    "print(\"\\nGrid scores:\")\n",
    "meansknn = clfxgb.cv_results_['mean_test_score'] # mean accuracy with folds\n",
    "stdsknn = clfxgb.cv_results_['std_test_score'] # standard deviation of accuracies\n",
    "# for each hyperparameter combination show mean +/- 2 standard-deviations \n",
    "for mean, std, params in zip(meansknn, stdsknn, clfxgb.cv_results_['params']):\n",
    "    print(\"%0.3f (+/-%0.03f) for %r\" %(mean, std * 2, params)) "
   ]
  },
  {
   "cell_type": "code",
   "execution_count": 41,
   "id": "4f72e7cc",
   "metadata": {
    "execution": {
     "iopub.execute_input": "2023-01-24T21:29:04.349766Z",
     "iopub.status.busy": "2023-01-24T21:29:04.349363Z",
     "iopub.status.idle": "2023-01-24T21:29:07.407805Z",
     "shell.execute_reply": "2023-01-24T21:29:07.406625Z"
    },
    "papermill": {
     "duration": 3.085609,
     "end_time": "2023-01-24T21:29:07.410456",
     "exception": false,
     "start_time": "2023-01-24T21:29:04.324847",
     "status": "completed"
    },
    "tags": []
   },
   "outputs": [
    {
     "name": "stdout",
     "output_type": "stream",
     "text": [
      "XGBClassifier(alpha=0.2, base_score=None, booster='gbtree', callbacks=None,\n",
      "              colsample_bylevel=0.9, colsample_bynode=0.8, colsample_bytree=0.6,\n",
      "              early_stopping_rounds=None, enable_categorical=False, eta=0.1,\n",
      "              eval_metric=None, gamma=None, gpu_id=None, grow_policy=None,\n",
      "              importance_type=None, interaction_constraints=None,\n",
      "              learning_rate=None, max_bin=None, max_cat_to_onehot=None,\n",
      "              max_delta_step=None, max_depth=5, max_leaves=None,\n",
      "              min_child_weight=None, missing=nan, monotone_constraints=None,\n",
      "              n_estimators=200, n_jobs=None, num_parallel_tree=None,\n",
      "              predictor=None, random_state=42, ...)\n",
      "Results on test data\n",
      "Test accuracy =  0.7446\n",
      "Test precision =  0.8046\n",
      "Test recall =  0.5352\n",
      "Classification report:\n",
      "              precision    recall  f1-score   support\n",
      "\n",
      "           0       0.72      0.90      0.80       869\n",
      "           1       0.80      0.54      0.64       654\n",
      "\n",
      "    accuracy                           0.74      1523\n",
      "   macro avg       0.76      0.72      0.72      1523\n",
      "weighted avg       0.76      0.74      0.73      1523\n",
      "\n",
      "Confusion matrix (Rows actual, Columns predicted):\n",
      "     0    1\n",
      "0  784   85\n",
      "1  304  350\n",
      "\n",
      "ROC curve\n"
     ]
    },
    {
     "name": "stderr",
     "output_type": "stream",
     "text": [
      "/opt/conda/lib/python3.7/site-packages/sklearn/utils/deprecation.py:87: FutureWarning: Function plot_roc_curve is deprecated; Function :func:`plot_roc_curve` is deprecated in 1.0 and will be removed in 1.2. Use one of the class methods: :meth:`sklearn.metric.RocCurveDisplay.from_predictions` or :meth:`sklearn.metric.RocCurveDisplay.from_estimator`.\n",
      "  warnings.warn(msg, category=FutureWarning)\n"
     ]
    },
    {
     "data": {
      "image/png": "[encoded data removed]",
      "text/plain": [
       "<Figure size 432x288 with 1 Axes>"
      ]
     },
     "metadata": {
      "needs_background": "light"
     },
     "output_type": "display_data"
    }
   ],
   "source": [
    "good_modelxgb= XGBClassifier(booster='gbtree', objective='binary:logistic', eta=0.1, max_depth=5, subsample=0.7,colsample_bytree=0.6, colsample_bylevel=0.9, colsample_bynode=0.8,\n",
    "                             alpha=0.2, reg_lambda= 0.3, n_estimators=200, random_state=42, verbosity=1) # create model \n",
    "print(good_modelxgb) # display model parameters\n",
    "good_modelxgb.fit(X_train,y_train) # train model\n",
    "predxgb = good_modelxgb.predict(X_test) # predicted output for test examples\n",
    "print(\"Results on test data\")\n",
    "accsvm = accuracy_score(y_test, predxgb) # accuracy on test examples\n",
    "precsvm = precision_score(y_test, predxgb) # precision on test examples\n",
    "recasvm = recall_score(y_test, predxgb) # recall on test examples\n",
    "print(f'Test accuracy = {accsvm: .4f}') # round to 4 decimal places\n",
    "print(f'Test precision = {precsvm: .4f}') # round to 4 decimal places\n",
    "print(f'Test recall = {recasvm: .4f}') # round to 4 decimal places\n",
    "print(\"Classification report:\")\n",
    "print(classification_report(y_test, predxgb))\n",
    "print(\"Confusion matrix (Rows actual, Columns predicted):\")\n",
    "print(pd.DataFrame(confusion_matrix(y_test, predxgb)))\n",
    "print('\\nROC curve')\n",
    "plot_roc_curve(good_modelxgb, X_test, y_test)  # \n",
    "plt.show()"
   ]
  },
  {
   "cell_type": "markdown",
   "id": "50af5265",
   "metadata": {
    "papermill": {
     "duration": 0.092935,
     "end_time": "2023-01-24T21:29:07.526242",
     "exception": false,
     "start_time": "2023-01-24T21:29:07.433307",
     "status": "completed"
    },
    "tags": []
   },
   "source": [
    "### NAIVE BAYES"
   ]
  },
  {
   "cell_type": "code",
   "execution_count": 42,
   "id": "bac82133",
   "metadata": {
    "execution": {
     "iopub.execute_input": "2023-01-24T21:29:07.572185Z",
     "iopub.status.busy": "2023-01-24T21:29:07.571795Z",
     "iopub.status.idle": "2023-01-24T21:29:07.901809Z",
     "shell.execute_reply": "2023-01-24T21:29:07.900864Z"
    },
    "papermill": {
     "duration": 0.357058,
     "end_time": "2023-01-24T21:29:07.905481",
     "exception": false,
     "start_time": "2023-01-24T21:29:07.548423",
     "status": "completed"
    },
    "tags": []
   },
   "outputs": [
    {
     "name": "stdout",
     "output_type": "stream",
     "text": [
      "Fitting 5 folds for each of 18 candidates, totalling 90 fits\n",
      "\n",
      "Best parameters found:\n",
      "{'alpha': 1, 'class_prior': None, 'fit_prior': True}\n",
      "\n",
      "Grid scores:\n",
      "0.784 (+/-0.010) for {'C': 1, 'gamma': 0.1, 'kernel': 'rbf'}\n",
      "0.765 (+/-0.011) for {'C': 1, 'gamma': 1, 'kernel': 'rbf'}\n",
      "0.680 (+/-0.021) for {'C': 2, 'gamma': 0.1, 'kernel': 'rbf'}\n",
      "0.680 (+/-0.021) for {'C': 2, 'gamma': 1, 'kernel': 'rbf'}\n",
      "0.765 (+/-0.011) for {'C': 3, 'gamma': 0.1, 'kernel': 'rbf'}\n",
      "0.765 (+/-0.011) for {'C': 3, 'gamma': 1, 'kernel': 'rbf'}\n"
     ]
    }
   ],
   "source": [
    "tuned_parameters = [{'alpha': [0.1, 1, 10],\n",
    "              'fit_prior': [True, False],\n",
    "              'class_prior': [None, [0.3,0.7], [0.5,0.5]]}]\n",
    "                     # hyperparameters to tune\n",
    "\n",
    "clfnb = GridSearchCV(MultinomialNB(), tuned_parameters, \n",
    "                   verbose=1, n_jobs=-1) # grid search model\n",
    "clfnb.fit(X_train,y_train) # evaluate hyper-parameters\n",
    "\n",
    "print(\"\\nBest parameters found:\")\n",
    "print(clfnb.best_params_) # best hyperparameter balues\n",
    "\n",
    "print(\"\\nGrid scores:\")\n",
    "meansvm = clfnb.cv_results_['mean_test_score'] # mean accuracy with folds\n",
    "stdsvm = clfnb.cv_results_['std_test_score'] # standard deviation of accuracies\n",
    "# for each hyperparameter combination show mean +/- 2 standard-deviations \n",
    "for mean, std, params in zip(meansvm, stdsvm, clfsvm.cv_results_['params']):\n",
    "    print(\"%0.3f (+/-%0.03f) for %r\" %(mean, std * 2, params)) "
   ]
  },
  {
   "cell_type": "code",
   "execution_count": 43,
   "id": "1db9cd87",
   "metadata": {
    "execution": {
     "iopub.execute_input": "2023-01-24T21:29:07.953166Z",
     "iopub.status.busy": "2023-01-24T21:29:07.952774Z",
     "iopub.status.idle": "2023-01-24T21:29:08.120753Z",
     "shell.execute_reply": "2023-01-24T21:29:08.119939Z"
    },
    "papermill": {
     "duration": 0.193814,
     "end_time": "2023-01-24T21:29:08.122814",
     "exception": false,
     "start_time": "2023-01-24T21:29:07.929000",
     "status": "completed"
    },
    "tags": []
   },
   "outputs": [
    {
     "name": "stdout",
     "output_type": "stream",
     "text": [
      "MultinomialNB(alpha=0.1)\n",
      "Results on test data\n",
      "Test accuracy =  0.7774\n",
      "Test precision =  0.7730\n",
      "Test recall =  0.6820\n",
      "Classification report:\n",
      "              precision    recall  f1-score   support\n",
      "\n",
      "           0       0.78      0.85      0.81       869\n",
      "           1       0.77      0.68      0.72       654\n",
      "\n",
      "    accuracy                           0.78      1523\n",
      "   macro avg       0.78      0.77      0.77      1523\n",
      "weighted avg       0.78      0.78      0.78      1523\n",
      "\n",
      "Confusion matrix (Rows actual, Columns predicted):\n",
      "     0    1\n",
      "0  738  131\n",
      "1  208  446\n",
      "\n",
      "ROC curve\n"
     ]
    },
    {
     "name": "stderr",
     "output_type": "stream",
     "text": [
      "/opt/conda/lib/python3.7/site-packages/sklearn/utils/deprecation.py:87: FutureWarning: Function plot_roc_curve is deprecated; Function :func:`plot_roc_curve` is deprecated in 1.0 and will be removed in 1.2. Use one of the class methods: :meth:`sklearn.metric.RocCurveDisplay.from_predictions` or :meth:`sklearn.metric.RocCurveDisplay.from_estimator`.\n",
      "  warnings.warn(msg, category=FutureWarning)\n"
     ]
    },
    {
     "data": {
      "image/png": "[encoded data removed]",
      "text/plain": [
       "<Figure size 432x288 with 1 Axes>"
      ]
     },
     "metadata": {
      "needs_background": "light"
     },
     "output_type": "display_data"
    }
   ],
   "source": [
    "good_modelnb= MultinomialNB(alpha=0.1, class_prior=None, fit_prior=True)\n",
    "                              # create model \n",
    "print(good_modelnb) # display model parameters\n",
    "good_modelnb.fit(X_train,y_train) # train model\n",
    "prednb = good_modelnb.predict(X_test) # predicted output for test examples\n",
    "print(\"Results on test data\")\n",
    "accnb = accuracy_score(y_test, prednb) # accuracy on test examples\n",
    "precnb = precision_score(y_test, prednb) # precision on test examples\n",
    "recanb = recall_score(y_test, prednb) # recall on test examples\n",
    "print(f'Test accuracy = {accnb: .4f}') # round to 4 decimal places\n",
    "print(f'Test precision = {precnb: .4f}') # round to 4 decimal places\n",
    "print(f'Test recall = {recanb: .4f}') # round to 4 decimal places\n",
    "print(\"Classification report:\")\n",
    "print(classification_report(y_test, prednb))\n",
    "print(\"Confusion matrix (Rows actual, Columns predicted):\")\n",
    "print(pd.DataFrame(confusion_matrix(y_test, prednb)))\n",
    "print('\\nROC curve')\n",
    "plot_roc_curve(good_modelnb, X_test, y_test)  # \n",
    "plt.show()"
   ]
  },
  {
   "cell_type": "markdown",
   "id": "78edc32b",
   "metadata": {
    "papermill": {
     "duration": 0.023351,
     "end_time": "2023-01-24T21:29:08.169081",
     "exception": false,
     "start_time": "2023-01-24T21:29:08.145730",
     "status": "completed"
    },
    "tags": []
   },
   "source": [
    "# GETTING COMBINED RESULTS OF MODELS AFTER FINIDING BEST HYPERPARAMETERS"
   ]
  },
  {
   "cell_type": "code",
   "execution_count": 44,
   "id": "73784624",
   "metadata": {
    "execution": {
     "iopub.execute_input": "2023-01-24T21:29:08.218721Z",
     "iopub.status.busy": "2023-01-24T21:29:08.217945Z",
     "iopub.status.idle": "2023-01-24T21:29:08.227597Z",
     "shell.execute_reply": "2023-01-24T21:29:08.226719Z"
    },
    "papermill": {
     "duration": 0.037212,
     "end_time": "2023-01-24T21:29:08.229785",
     "exception": false,
     "start_time": "2023-01-24T21:29:08.192573",
     "status": "completed"
    },
    "tags": []
   },
   "outputs": [],
   "source": [
    "models_tuned = []\n",
    "\n",
    "models_tuned.append(('Logistic Regression', LogisticRegression(solver='liblinear',C = 10, max_iter=500, random_state = 0)))\n",
    "models_tuned.append(('SVC', SVC(C=1, kernel = 'linear', gamma=1, random_state = 0)))\n",
    "models_tuned.append(('Kernel SVM', SVC(C=1, kernel = 'rbf', gamma=1, random_state = 0)))\n",
    "models_tuned.append(('KNN', KNeighborsClassifier(n_neighbors = 5, metric = 'euclidean', p = 2,algorithm='brute')))\n",
    "models_tuned.append(('Multinomial NB', good_modelnb))\n",
    "models_tuned.append(('Decision Tree Classifier', DecisionTreeClassifier(criterion = 'gini', max_leaf_nodes=19, random_state = 0)))\n",
    "models_tuned.append(('Random Forest', RandomForestClassifier(max_leaf_nodes = 24,max_features = 25, \n",
    "                                                           n_estimators = 50,criterion = 'entropy', random_state = 0)))\n",
    "models_tuned.append(('XBGClassifer',XGBClassifier(booster='gbtree', objective='binary:logistic', eta=0.1, max_depth=5, subsample=0.8,colsample_bytree=0.7, colsample_bylevel=0.8, colsample_bynode=0.8,\n",
    "                             alpha=0.2, reg_lambda= 0.2, n_estimators=150, random_state=42, verbosity=1)))"
   ]
  },
  {
   "cell_type": "code",
   "execution_count": 45,
   "id": "5f2fa2c3",
   "metadata": {
    "execution": {
     "iopub.execute_input": "2023-01-24T21:29:08.278529Z",
     "iopub.status.busy": "2023-01-24T21:29:08.277770Z",
     "iopub.status.idle": "2023-01-24T21:36:04.601892Z",
     "shell.execute_reply": "2023-01-24T21:36:04.600807Z"
    },
    "papermill": {
     "duration": 416.374046,
     "end_time": "2023-01-24T21:36:04.627141",
     "exception": false,
     "start_time": "2023-01-24T21:29:08.253095",
     "status": "completed"
    },
    "tags": []
   },
   "outputs": [
    {
     "name": "stderr",
     "output_type": "stream",
     "text": [
      "/opt/conda/lib/python3.7/site-packages/sklearn/linear_model/_logistic.py:818: ConvergenceWarning: lbfgs failed to converge (status=1):\n",
      "STOP: TOTAL NO. of ITERATIONS REACHED LIMIT.\n",
      "\n",
      "Increase the number of iterations (max_iter) or scale the data as shown in:\n",
      "    https://scikit-learn.org/stable/modules/preprocessing.html\n",
      "Please also refer to the documentation for alternative solver options:\n",
      "    https://scikit-learn.org/stable/modules/linear_model.html#logistic-regression\n",
      "  extra_warning_msg=_LOGISTIC_SOLVER_CONVERGENCE_MSG,\n",
      "/opt/conda/lib/python3.7/site-packages/sklearn/linear_model/_logistic.py:818: ConvergenceWarning: lbfgs failed to converge (status=1):\n",
      "STOP: TOTAL NO. of ITERATIONS REACHED LIMIT.\n",
      "\n",
      "Increase the number of iterations (max_iter) or scale the data as shown in:\n",
      "    https://scikit-learn.org/stable/modules/preprocessing.html\n",
      "Please also refer to the documentation for alternative solver options:\n",
      "    https://scikit-learn.org/stable/modules/linear_model.html#logistic-regression\n",
      "  extra_warning_msg=_LOGISTIC_SOLVER_CONVERGENCE_MSG,\n",
      "/opt/conda/lib/python3.7/site-packages/sklearn/linear_model/_logistic.py:818: ConvergenceWarning: lbfgs failed to converge (status=1):\n",
      "STOP: TOTAL NO. of ITERATIONS REACHED LIMIT.\n",
      "\n",
      "Increase the number of iterations (max_iter) or scale the data as shown in:\n",
      "    https://scikit-learn.org/stable/modules/preprocessing.html\n",
      "Please also refer to the documentation for alternative solver options:\n",
      "    https://scikit-learn.org/stable/modules/linear_model.html#logistic-regression\n",
      "  extra_warning_msg=_LOGISTIC_SOLVER_CONVERGENCE_MSG,\n",
      "/opt/conda/lib/python3.7/site-packages/sklearn/linear_model/_logistic.py:818: ConvergenceWarning: lbfgs failed to converge (status=1):\n",
      "STOP: TOTAL NO. of ITERATIONS REACHED LIMIT.\n",
      "\n",
      "Increase the number of iterations (max_iter) or scale the data as shown in:\n",
      "    https://scikit-learn.org/stable/modules/preprocessing.html\n",
      "Please also refer to the documentation for alternative solver options:\n",
      "    https://scikit-learn.org/stable/modules/linear_model.html#logistic-regression\n",
      "  extra_warning_msg=_LOGISTIC_SOLVER_CONVERGENCE_MSG,\n",
      "/opt/conda/lib/python3.7/site-packages/sklearn/linear_model/_logistic.py:818: ConvergenceWarning: lbfgs failed to converge (status=1):\n",
      "STOP: TOTAL NO. of ITERATIONS REACHED LIMIT.\n",
      "\n",
      "Increase the number of iterations (max_iter) or scale the data as shown in:\n",
      "    https://scikit-learn.org/stable/modules/preprocessing.html\n",
      "Please also refer to the documentation for alternative solver options:\n",
      "    https://scikit-learn.org/stable/modules/linear_model.html#logistic-regression\n",
      "  extra_warning_msg=_LOGISTIC_SOLVER_CONVERGENCE_MSG,\n"
     ]
    },
    {
     "data": {
      "text/html": [
       "<div>\n",
       "<style scoped>\n",
       "    .dataframe tbody tr th:only-of-type {\n",
       "        vertical-align: middle;\n",
       "    }\n",
       "\n",
       "    .dataframe tbody tr th {\n",
       "        vertical-align: top;\n",
       "    }\n",
       "\n",
       "    .dataframe thead th {\n",
       "        text-align: right;\n",
       "    }\n",
       "</style>\n",
       "<table border=\"1\" class=\"dataframe\">\n",
       "  <thead>\n",
       "    <tr style=\"text-align: right;\">\n",
       "      <th></th>\n",
       "      <th>Algorithm</th>\n",
       "      <th>ROC AUC</th>\n",
       "      <th>Accuracy</th>\n",
       "      <th>Precision</th>\n",
       "      <th>F1 Scores</th>\n",
       "    </tr>\n",
       "  </thead>\n",
       "  <tbody>\n",
       "    <tr>\n",
       "      <th>2</th>\n",
       "      <td>Kernel SVM</td>\n",
       "      <td>85.58</td>\n",
       "      <td>79.75</td>\n",
       "      <td>87.63</td>\n",
       "      <td>72.24</td>\n",
       "    </tr>\n",
       "    <tr>\n",
       "      <th>1</th>\n",
       "      <td>SVC</td>\n",
       "      <td>85.31</td>\n",
       "      <td>79.70</td>\n",
       "      <td>82.18</td>\n",
       "      <td>73.96</td>\n",
       "    </tr>\n",
       "    <tr>\n",
       "      <th>0</th>\n",
       "      <td>Logistic Regression</td>\n",
       "      <td>84.96</td>\n",
       "      <td>79.16</td>\n",
       "      <td>79.88</td>\n",
       "      <td>73.82</td>\n",
       "    </tr>\n",
       "    <tr>\n",
       "      <th>4</th>\n",
       "      <td>Multinomial NB</td>\n",
       "      <td>84.41</td>\n",
       "      <td>77.82</td>\n",
       "      <td>75.26</td>\n",
       "      <td>73.54</td>\n",
       "    </tr>\n",
       "    <tr>\n",
       "      <th>7</th>\n",
       "      <td>XBGClassifer</td>\n",
       "      <td>82.61</td>\n",
       "      <td>75.99</td>\n",
       "      <td>83.51</td>\n",
       "      <td>66.18</td>\n",
       "    </tr>\n",
       "    <tr>\n",
       "      <th>6</th>\n",
       "      <td>Random Forest</td>\n",
       "      <td>81.33</td>\n",
       "      <td>62.86</td>\n",
       "      <td>98.89</td>\n",
       "      <td>24.10</td>\n",
       "    </tr>\n",
       "    <tr>\n",
       "      <th>3</th>\n",
       "      <td>KNN</td>\n",
       "      <td>80.65</td>\n",
       "      <td>76.40</td>\n",
       "      <td>82.67</td>\n",
       "      <td>67.44</td>\n",
       "    </tr>\n",
       "    <tr>\n",
       "      <th>5</th>\n",
       "      <td>Decision Tree Classifier</td>\n",
       "      <td>64.31</td>\n",
       "      <td>68.46</td>\n",
       "      <td>85.05</td>\n",
       "      <td>46.68</td>\n",
       "    </tr>\n",
       "  </tbody>\n",
       "</table>\n",
       "</div>"
      ],
      "text/plain": [
       "                  Algorithm  ROC AUC  Accuracy  Precision  F1 Scores\n",
       "2                Kernel SVM    85.58     79.75      87.63      72.24\n",
       "1                       SVC    85.31     79.70      82.18      73.96\n",
       "0       Logistic Regression    84.96     79.16      79.88      73.82\n",
       "4            Multinomial NB    84.41     77.82      75.26      73.54\n",
       "7              XBGClassifer    82.61     75.99      83.51      66.18\n",
       "6             Random Forest    81.33     62.86      98.89      24.10\n",
       "3                       KNN    80.65     76.40      82.67      67.44\n",
       "5  Decision Tree Classifier    64.31     68.46      85.05      46.68"
      ]
     },
     "execution_count": 45,
     "metadata": {},
     "output_type": "execute_result"
    }
   ],
   "source": [
    "acc_results_opt =[]\n",
    "auc_results_opt =[]\n",
    "pre_results_opt =[]\n",
    "f1_results_opt =[]\n",
    "names_opt = []\n",
    "\n",
    "result_col_opt = [\"Algorithm\", \"ROC AUC\", \"Accuracy\", 'Precision', 'F1 Scores']\n",
    "model_results_opt = pd.DataFrame(columns = result_col_opt)\n",
    "\n",
    "i=0\n",
    "# K- fold cross validation\n",
    "\n",
    "for name, model in models_tuned:\n",
    "    names_opt.append(name)\n",
    "    kfold = model_selection.KFold(n_splits=10)\n",
    "    \n",
    "    cv_acc_results_opt = model_selection.cross_val_score(model, X_train, y_train, \n",
    "                    cv = kfold, scoring=\"accuracy\")\n",
    "    cv_auc_results_opt = model_selection.cross_val_score(model, X_train, y_train,\n",
    "                    cv = kfold, scoring=\"roc_auc\")\n",
    "    cv_pre_results_opt = model_selection.cross_val_score(model, X_train, y_train,\n",
    "                    cv = kfold, scoring=\"precision\")\n",
    "    cv_f1_results_opt = model_selection.cross_val_score(model, X_train, y_train,\n",
    "                    cv = kfold, scoring=\"f1\")\n",
    "    acc_results_opt.append(cv_acc_results_opt)\n",
    "    auc_results_opt.append(cv_auc_results_opt)\n",
    "    pre_results_opt.append(cv_pre_results_opt)\n",
    "    f1_results_opt.append(cv_f1_results_opt)\n",
    "    model_results_opt.loc[i] = [name, \n",
    "                           round(cv_auc_results_opt.mean()*100,2),\n",
    "                           round(cv_acc_results_opt.mean()*100,2),\n",
    "                           round(cv_pre_results_opt.mean()*100,2),\n",
    "                           round(cv_f1_results_opt.mean()*100,2)]\n",
    "    i+=1\n",
    "\n",
    "model_results_opt.sort_values(by = ['ROC AUC'], ascending=False)"
   ]
  },
  {
   "cell_type": "markdown",
   "id": "6758a3d7",
   "metadata": {
    "papermill": {
     "duration": 0.023394,
     "end_time": "2023-01-24T21:36:04.673762",
     "exception": false,
     "start_time": "2023-01-24T21:36:04.650368",
     "status": "completed"
    },
    "tags": []
   },
   "source": [
    "# MODEL RESULTS ON TEST DATA FOR BEST USED HYPERPARAMETERS"
   ]
  },
  {
   "cell_type": "code",
   "execution_count": 46,
   "id": "b8000d5f",
   "metadata": {
    "execution": {
     "iopub.execute_input": "2023-01-24T21:36:04.723296Z",
     "iopub.status.busy": "2023-01-24T21:36:04.722403Z",
     "iopub.status.idle": "2023-01-24T21:37:48.286777Z",
     "shell.execute_reply": "2023-01-24T21:37:48.285985Z"
    },
    "papermill": {
     "duration": 103.615141,
     "end_time": "2023-01-24T21:37:48.312275",
     "exception": false,
     "start_time": "2023-01-24T21:36:04.697134",
     "status": "completed"
    },
    "tags": []
   },
   "outputs": [
    {
     "data": {
      "text/html": [
       "<div>\n",
       "<style scoped>\n",
       "    .dataframe tbody tr th:only-of-type {\n",
       "        vertical-align: middle;\n",
       "    }\n",
       "\n",
       "    .dataframe tbody tr th {\n",
       "        vertical-align: top;\n",
       "    }\n",
       "\n",
       "    .dataframe thead th {\n",
       "        text-align: right;\n",
       "    }\n",
       "</style>\n",
       "<table border=\"1\" class=\"dataframe\">\n",
       "  <thead>\n",
       "    <tr style=\"text-align: right;\">\n",
       "      <th></th>\n",
       "      <th>Algorithm</th>\n",
       "      <th>ROC AUC</th>\n",
       "      <th>Accuracy</th>\n",
       "      <th>Precision</th>\n",
       "      <th>F1 Scores</th>\n",
       "    </tr>\n",
       "  </thead>\n",
       "  <tbody>\n",
       "    <tr>\n",
       "      <th>2</th>\n",
       "      <td>Kernel SVM</td>\n",
       "      <td>80.67</td>\n",
       "      <td>73.54</td>\n",
       "      <td>84.73</td>\n",
       "      <td>60.10</td>\n",
       "    </tr>\n",
       "    <tr>\n",
       "      <th>1</th>\n",
       "      <td>SVC</td>\n",
       "      <td>80.50</td>\n",
       "      <td>75.63</td>\n",
       "      <td>78.48</td>\n",
       "      <td>67.97</td>\n",
       "    </tr>\n",
       "    <tr>\n",
       "      <th>0</th>\n",
       "      <td>Logistic Regression</td>\n",
       "      <td>79.52</td>\n",
       "      <td>74.71</td>\n",
       "      <td>75.27</td>\n",
       "      <td>67.75</td>\n",
       "    </tr>\n",
       "    <tr>\n",
       "      <th>4</th>\n",
       "      <td>Multinomial NB</td>\n",
       "      <td>79.34</td>\n",
       "      <td>74.71</td>\n",
       "      <td>73.65</td>\n",
       "      <td>68.93</td>\n",
       "    </tr>\n",
       "    <tr>\n",
       "      <th>6</th>\n",
       "      <td>Random Forest</td>\n",
       "      <td>76.32</td>\n",
       "      <td>60.47</td>\n",
       "      <td>98.75</td>\n",
       "      <td>15.05</td>\n",
       "    </tr>\n",
       "    <tr>\n",
       "      <th>7</th>\n",
       "      <td>XBGClassifer</td>\n",
       "      <td>76.27</td>\n",
       "      <td>70.92</td>\n",
       "      <td>75.03</td>\n",
       "      <td>58.97</td>\n",
       "    </tr>\n",
       "    <tr>\n",
       "      <th>5</th>\n",
       "      <td>Decision Tree Classifier</td>\n",
       "      <td>61.53</td>\n",
       "      <td>65.79</td>\n",
       "      <td>77.95</td>\n",
       "      <td>41.26</td>\n",
       "    </tr>\n",
       "    <tr>\n",
       "      <th>3</th>\n",
       "      <td>KNN</td>\n",
       "      <td>59.01</td>\n",
       "      <td>59.55</td>\n",
       "      <td>100.00</td>\n",
       "      <td>11.02</td>\n",
       "    </tr>\n",
       "  </tbody>\n",
       "</table>\n",
       "</div>"
      ],
      "text/plain": [
       "                  Algorithm  ROC AUC  Accuracy  Precision  F1 Scores\n",
       "2                Kernel SVM    80.67     73.54      84.73      60.10\n",
       "1                       SVC    80.50     75.63      78.48      67.97\n",
       "0       Logistic Regression    79.52     74.71      75.27      67.75\n",
       "4            Multinomial NB    79.34     74.71      73.65      68.93\n",
       "6             Random Forest    76.32     60.47      98.75      15.05\n",
       "7              XBGClassifer    76.27     70.92      75.03      58.97\n",
       "5  Decision Tree Classifier    61.53     65.79      77.95      41.26\n",
       "3                       KNN    59.01     59.55     100.00      11.02"
      ]
     },
     "execution_count": 46,
     "metadata": {},
     "output_type": "execute_result"
    }
   ],
   "source": [
    "acc_results_opt =[]\n",
    "auc_results_opt =[]\n",
    "pre_results_opt =[]\n",
    "f1_results_opt =[]\n",
    "names_opt = []\n",
    "\n",
    "result_col_opt = [\"Algorithm\", \"ROC AUC\", \"Accuracy\", 'Precision', 'F1 Scores']\n",
    "model_results_opt = pd.DataFrame(columns = result_col_opt)\n",
    "\n",
    "i=0\n",
    "# K- fold cross validation\n",
    "\n",
    "for name, model in models_tuned:\n",
    "    names_opt.append(name)\n",
    "    kfold = model_selection.KFold(n_splits=10)\n",
    "    \n",
    "    cv_acc_results_opt = model_selection.cross_val_score(model, X_test, y_test, \n",
    "                    cv = kfold, scoring=\"accuracy\")\n",
    "    cv_auc_results_opt = model_selection.cross_val_score(model, X_test, y_test,\n",
    "                    cv = kfold, scoring=\"roc_auc\")\n",
    "    cv_pre_results_opt = model_selection.cross_val_score(model, X_test, y_test,\n",
    "                    cv = kfold, scoring=\"precision\")\n",
    "    cv_f1_results_opt = model_selection.cross_val_score(model, X_test, y_test,\n",
    "                    cv = kfold, scoring=\"f1\")\n",
    "    acc_results_opt.append(cv_acc_results_opt)\n",
    "    auc_results_opt.append(cv_auc_results_opt)\n",
    "    pre_results_opt.append(cv_pre_results_opt)\n",
    "    f1_results_opt.append(cv_f1_results_opt)\n",
    "    model_results_opt.loc[i] = [name, \n",
    "                           round(cv_auc_results_opt.mean()*100,2),\n",
    "                           round(cv_acc_results_opt.mean()*100,2),\n",
    "                           round(cv_pre_results_opt.mean()*100,2),\n",
    "                           round(cv_f1_results_opt.mean()*100,2)]\n",
    "    i+=1\n",
    "model_results_opt.sort_values(by = ['ROC AUC'], ascending=False)"
   ]
  },
  {
   "cell_type": "code",
   "execution_count": 47,
   "id": "1b17fb81",
   "metadata": {
    "execution": {
     "iopub.execute_input": "2023-01-24T21:37:48.361361Z",
     "iopub.status.busy": "2023-01-24T21:37:48.360610Z",
     "iopub.status.idle": "2023-01-24T21:38:23.922061Z",
     "shell.execute_reply": "2023-01-24T21:38:23.921191Z"
    },
    "papermill": {
     "duration": 35.588743,
     "end_time": "2023-01-24T21:38:23.924478",
     "exception": false,
     "start_time": "2023-01-24T21:37:48.335735",
     "status": "completed"
    },
    "tags": []
   },
   "outputs": [],
   "source": [
    "#Preprocessing the text column\n",
    "data_test['clean_text']=data_test['text'].apply(text_cleaner)\n",
    "data_test['clean_text'] = data_test['clean_text'].apply(lambda x: nlp(x))\n",
    "data_test['final_text']=data_test['clean_text'].apply(preprocess)"
   ]
  },
  {
   "cell_type": "code",
   "execution_count": 48,
   "id": "577405f6",
   "metadata": {
    "execution": {
     "iopub.execute_input": "2023-01-24T21:38:23.973913Z",
     "iopub.status.busy": "2023-01-24T21:38:23.973189Z",
     "iopub.status.idle": "2023-01-24T21:38:23.977103Z",
     "shell.execute_reply": "2023-01-24T21:38:23.976368Z"
    },
    "papermill": {
     "duration": 0.030763,
     "end_time": "2023-01-24T21:38:23.979030",
     "exception": false,
     "start_time": "2023-01-24T21:38:23.948267",
     "status": "completed"
    },
    "tags": []
   },
   "outputs": [],
   "source": [
    "#tfidf=TfidfVectorizer(use_idf=False)"
   ]
  },
  {
   "cell_type": "code",
   "execution_count": 49,
   "id": "8fcd93a8",
   "metadata": {
    "execution": {
     "iopub.execute_input": "2023-01-24T21:38:24.029879Z",
     "iopub.status.busy": "2023-01-24T21:38:24.029438Z",
     "iopub.status.idle": "2023-01-24T21:38:24.189808Z",
     "shell.execute_reply": "2023-01-24T21:38:24.188604Z"
    },
    "papermill": {
     "duration": 0.189031,
     "end_time": "2023-01-24T21:38:24.192440",
     "exception": false,
     "start_time": "2023-01-24T21:38:24.003409",
     "status": "completed"
    },
    "tags": []
   },
   "outputs": [],
   "source": [
    "eval=vectorizer.transform(data_test['final_text']).toarray()"
   ]
  },
  {
   "cell_type": "code",
   "execution_count": 50,
   "id": "0e13e426",
   "metadata": {
    "execution": {
     "iopub.execute_input": "2023-01-24T21:38:24.242286Z",
     "iopub.status.busy": "2023-01-24T21:38:24.241868Z",
     "iopub.status.idle": "2023-01-24T21:38:26.279511Z",
     "shell.execute_reply": "2023-01-24T21:38:26.278251Z"
    },
    "papermill": {
     "duration": 2.065871,
     "end_time": "2023-01-24T21:38:26.282356",
     "exception": false,
     "start_time": "2023-01-24T21:38:24.216485",
     "status": "completed"
    },
    "tags": []
   },
   "outputs": [],
   "source": [
    "final_pred = good_modelsvm.predict(eval)"
   ]
  },
  {
   "cell_type": "code",
   "execution_count": 51,
   "id": "fd333b9f",
   "metadata": {
    "execution": {
     "iopub.execute_input": "2023-01-24T21:38:26.332552Z",
     "iopub.status.busy": "2023-01-24T21:38:26.332154Z",
     "iopub.status.idle": "2023-01-24T21:38:26.340143Z",
     "shell.execute_reply": "2023-01-24T21:38:26.339069Z"
    },
    "papermill": {
     "duration": 0.035662,
     "end_time": "2023-01-24T21:38:26.342592",
     "exception": false,
     "start_time": "2023-01-24T21:38:26.306930",
     "status": "completed"
    },
    "tags": []
   },
   "outputs": [],
   "source": [
    "submission2 = data_test[['id']].reset_index(drop=True)\n",
    "submission2['target'] = final_pred.astype('int64')"
   ]
  },
  {
   "cell_type": "code",
   "execution_count": 52,
   "id": "d3092c62",
   "metadata": {
    "execution": {
     "iopub.execute_input": "2023-01-24T21:38:26.391469Z",
     "iopub.status.busy": "2023-01-24T21:38:26.390543Z",
     "iopub.status.idle": "2023-01-24T21:38:26.403403Z",
     "shell.execute_reply": "2023-01-24T21:38:26.402377Z"
    },
    "papermill": {
     "duration": 0.039443,
     "end_time": "2023-01-24T21:38:26.405499",
     "exception": false,
     "start_time": "2023-01-24T21:38:26.366056",
     "status": "completed"
    },
    "tags": []
   },
   "outputs": [
    {
     "data": {
      "text/html": [
       "<div>\n",
       "<style scoped>\n",
       "    .dataframe tbody tr th:only-of-type {\n",
       "        vertical-align: middle;\n",
       "    }\n",
       "\n",
       "    .dataframe tbody tr th {\n",
       "        vertical-align: top;\n",
       "    }\n",
       "\n",
       "    .dataframe thead th {\n",
       "        text-align: right;\n",
       "    }\n",
       "</style>\n",
       "<table border=\"1\" class=\"dataframe\">\n",
       "  <thead>\n",
       "    <tr style=\"text-align: right;\">\n",
       "      <th></th>\n",
       "      <th>id</th>\n",
       "      <th>target</th>\n",
       "    </tr>\n",
       "  </thead>\n",
       "  <tbody>\n",
       "    <tr>\n",
       "      <th>0</th>\n",
       "      <td>0</td>\n",
       "      <td>1</td>\n",
       "    </tr>\n",
       "    <tr>\n",
       "      <th>1</th>\n",
       "      <td>2</td>\n",
       "      <td>1</td>\n",
       "    </tr>\n",
       "    <tr>\n",
       "      <th>2</th>\n",
       "      <td>3</td>\n",
       "      <td>1</td>\n",
       "    </tr>\n",
       "    <tr>\n",
       "      <th>3</th>\n",
       "      <td>9</td>\n",
       "      <td>1</td>\n",
       "    </tr>\n",
       "    <tr>\n",
       "      <th>4</th>\n",
       "      <td>11</td>\n",
       "      <td>1</td>\n",
       "    </tr>\n",
       "    <tr>\n",
       "      <th>...</th>\n",
       "      <td>...</td>\n",
       "      <td>...</td>\n",
       "    </tr>\n",
       "    <tr>\n",
       "      <th>3258</th>\n",
       "      <td>10861</td>\n",
       "      <td>1</td>\n",
       "    </tr>\n",
       "    <tr>\n",
       "      <th>3259</th>\n",
       "      <td>10865</td>\n",
       "      <td>1</td>\n",
       "    </tr>\n",
       "    <tr>\n",
       "      <th>3260</th>\n",
       "      <td>10868</td>\n",
       "      <td>1</td>\n",
       "    </tr>\n",
       "    <tr>\n",
       "      <th>3261</th>\n",
       "      <td>10874</td>\n",
       "      <td>1</td>\n",
       "    </tr>\n",
       "    <tr>\n",
       "      <th>3262</th>\n",
       "      <td>10875</td>\n",
       "      <td>1</td>\n",
       "    </tr>\n",
       "  </tbody>\n",
       "</table>\n",
       "<p>3263 rows × 2 columns</p>\n",
       "</div>"
      ],
      "text/plain": [
       "         id  target\n",
       "0         0       1\n",
       "1         2       1\n",
       "2         3       1\n",
       "3         9       1\n",
       "4        11       1\n",
       "...     ...     ...\n",
       "3258  10861       1\n",
       "3259  10865       1\n",
       "3260  10868       1\n",
       "3261  10874       1\n",
       "3262  10875       1\n",
       "\n",
       "[3263 rows x 2 columns]"
      ]
     },
     "execution_count": 52,
     "metadata": {},
     "output_type": "execute_result"
    }
   ],
   "source": [
    "submission2"
   ]
  },
  {
   "cell_type": "code",
   "execution_count": 53,
   "id": "8d0de47f",
   "metadata": {
    "execution": {
     "iopub.execute_input": "2023-01-24T21:38:26.455573Z",
     "iopub.status.busy": "2023-01-24T21:38:26.455127Z",
     "iopub.status.idle": "2023-01-24T21:38:26.466802Z",
     "shell.execute_reply": "2023-01-24T21:38:26.465975Z"
    },
    "papermill": {
     "duration": 0.038933,
     "end_time": "2023-01-24T21:38:26.468968",
     "exception": false,
     "start_time": "2023-01-24T21:38:26.430035",
     "status": "completed"
    },
    "tags": []
   },
   "outputs": [],
   "source": [
    "submission2.to_csv('submission.csv', index=False)"
   ]
  },
  {
   "cell_type": "code",
   "execution_count": null,
   "id": "044f185e",
   "metadata": {
    "papermill": {
     "duration": 0.023534,
     "end_time": "2023-01-24T21:38:26.516770",
     "exception": false,
     "start_time": "2023-01-24T21:38:26.493236",
     "status": "completed"
    },
    "tags": []
   },
   "outputs": [],
   "source": []
  },
  {
   "cell_type": "code",
   "execution_count": null,
   "id": "d4c9e142",
   "metadata": {
    "papermill": {
     "duration": 0.023437,
     "end_time": "2023-01-24T21:38:26.564115",
     "exception": false,
     "start_time": "2023-01-24T21:38:26.540678",
     "status": "completed"
    },
    "tags": []
   },
   "outputs": [],
   "source": []
  }
 ],
 "metadata": {
  "kernelspec": {
   "display_name": "Python 3",
   "language": "python",
   "name": "python3"
  },
  "language_info": {
   "codemirror_mode": {
    "name": "ipython",
    "version": 3
   },
   "file_extension": ".py",
   "mimetype": "text/x-python",
   "name": "python",
   "nbconvert_exporter": "python",
   "pygments_lexer": "ipython3",
   "version": "3.7.12"
  },
  "papermill": {
   "default_parameters": {},
   "duration": 3054.761739,
   "end_time": "2023-01-24T21:38:29.213764",
   "environment_variables": {},
   "exception": null,
   "input_path": "__notebook__.ipynb",
   "output_path": "__notebook__.ipynb",
   "parameters": {},
   "start_time": "2023-01-24T20:47:34.452025",
   "version": "2.3.4"
  }
 },
 "nbformat": 4,
 "nbformat_minor": 5
}
